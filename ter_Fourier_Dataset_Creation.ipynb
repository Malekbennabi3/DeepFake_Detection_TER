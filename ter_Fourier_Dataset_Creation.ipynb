{
  "metadata": {
    "colab": {
      "provenance": [],
      "gpuType": "T4"
    },
    "kernelspec": {
      "name": "python3",
      "display_name": "Python 3"
    },
    "language_info": {
      "name": "python",
      "version": "3.10.13",
      "mimetype": "text/x-python",
      "codemirror_mode": {
        "name": "ipython",
        "version": 3
      },
      "pygments_lexer": "ipython3",
      "nbconvert_exporter": "python",
      "file_extension": ".py"
    },
    "kaggle": {
      "accelerator": "gpu",
      "dataSources": [],
      "dockerImageVersionId": 30699,
      "isInternetEnabled": true,
      "language": "python",
      "sourceType": "notebook",
      "isGpuEnabled": true
    },
    "accelerator": "GPU"
  },
  "nbformat_minor": 0,
  "nbformat": 4,
  "cells": [
    {
      "cell_type": "code",
      "source": [
        "!wget https://huggingface.co/datasets/OpenRL/DeepFakeFace/resolve/main/inpainting.zip\n",
        "!wget https://huggingface.co/datasets/OpenRL/DeepFakeFace/resolve/main/wiki.zip"
      ],
      "metadata": {
        "colab": {
          "base_uri": "https://localhost:8080/"
        },
        "id": "fGoTrkdr92AZ",
        "outputId": "a96a8f7a-4845-41b5-c72d-4da1cf8f0da9",
        "execution": {
          "iopub.status.busy": "2024-04-23T16:53:01.964795Z",
          "iopub.execute_input": "2024-04-23T16:53:01.965367Z",
          "iopub.status.idle": "2024-04-23T16:53:14.428791Z",
          "shell.execute_reply.started": "2024-04-23T16:53:01.965334Z",
          "shell.execute_reply": "2024-04-23T16:53:14.427532Z"
        },
        "trusted": true
      },
      "execution_count": null,
      "outputs": [
        {
          "output_type": "stream",
          "name": "stdout",
          "text": [
            "--2024-05-15 17:53:44--  https://huggingface.co/datasets/OpenRL/DeepFakeFace/resolve/main/inpainting.zip\n",
            "Resolving huggingface.co (huggingface.co)... 18.239.50.49, 18.239.50.16, 18.239.50.80, ...\n",
            "Connecting to huggingface.co (huggingface.co)|18.239.50.49|:443... connected.\n",
            "HTTP request sent, awaiting response... 302 Found\n",
            "Location: https://cdn-lfs.huggingface.co/repos/43/54/4354080778713efff252f32d0ea8cda241f8af84fe016fdd4e0d57db34b94861/795b751f0967b2d940fbd9825e05c541666ec6f8c634acc7640044542897b7b2?response-content-disposition=attachment%3B+filename*%3DUTF-8%27%27inpainting.zip%3B+filename%3D%22inpainting.zip%22%3B&response-content-type=application%2Fzip&Expires=1716054824&Policy=eyJTdGF0ZW1lbnQiOlt7IkNvbmRpdGlvbiI6eyJEYXRlTGVzc1RoYW4iOnsiQVdTOkVwb2NoVGltZSI6MTcxNjA1NDgyNH19LCJSZXNvdXJjZSI6Imh0dHBzOi8vY2RuLWxmcy5odWdnaW5nZmFjZS5jby9yZXBvcy80My81NC80MzU0MDgwNzc4NzEzZWZmZjI1MmYzMmQwZWE4Y2RhMjQxZjhhZjg0ZmUwMTZmZGQ0ZTBkNTdkYjM0Yjk0ODYxLzc5NWI3NTFmMDk2N2IyZDk0MGZiZDk4MjVlMDVjNTQxNjY2ZWM2ZjhjNjM0YWNjNzY0MDA0NDU0Mjg5N2I3YjI%7EcmVzcG9uc2UtY29udGVudC1kaXNwb3NpdGlvbj0qJnJlc3BvbnNlLWNvbnRlbnQtdHlwZT0qIn1dfQ__&Signature=Ltye3hL1kj3VIaUvLGvI1tve8iRjtOVinIzoraRTjfx%7E8YPRL4rTyL0kW5kaFcdUmcoikgWOVSZwud38m3A6LlObHwk5P8oFKYWV34W6pfUKqeFbfEi9mSPzwvq0ISbXpaqjYxGMwNftnobKb1YQ7YW4W5fExmZsJkuveRZyfNQm8J70guEIhDm0agqwBobHmNSiIi5VguoDrtIovB%7EeCxSbLB5tw2ItcarRADagr2R6sfk7hqc%7EIH0-3CRHdi0x%7E7GWbanqE3YDLgDpB7EnOefdSMsGDC5ezztxC8nQQ7WOqgrRD8U%7EZir%7E-FdgSdDRaJpY8YvITjbPhbQhluZQWA__&Key-Pair-Id=KVTP0A1DKRTAX [following]\n",
            "--2024-05-15 17:53:44--  https://cdn-lfs.huggingface.co/repos/43/54/4354080778713efff252f32d0ea8cda241f8af84fe016fdd4e0d57db34b94861/795b751f0967b2d940fbd9825e05c541666ec6f8c634acc7640044542897b7b2?response-content-disposition=attachment%3B+filename*%3DUTF-8%27%27inpainting.zip%3B+filename%3D%22inpainting.zip%22%3B&response-content-type=application%2Fzip&Expires=1716054824&Policy=eyJTdGF0ZW1lbnQiOlt7IkNvbmRpdGlvbiI6eyJEYXRlTGVzc1RoYW4iOnsiQVdTOkVwb2NoVGltZSI6MTcxNjA1NDgyNH19LCJSZXNvdXJjZSI6Imh0dHBzOi8vY2RuLWxmcy5odWdnaW5nZmFjZS5jby9yZXBvcy80My81NC80MzU0MDgwNzc4NzEzZWZmZjI1MmYzMmQwZWE4Y2RhMjQxZjhhZjg0ZmUwMTZmZGQ0ZTBkNTdkYjM0Yjk0ODYxLzc5NWI3NTFmMDk2N2IyZDk0MGZiZDk4MjVlMDVjNTQxNjY2ZWM2ZjhjNjM0YWNjNzY0MDA0NDU0Mjg5N2I3YjI%7EcmVzcG9uc2UtY29udGVudC1kaXNwb3NpdGlvbj0qJnJlc3BvbnNlLWNvbnRlbnQtdHlwZT0qIn1dfQ__&Signature=Ltye3hL1kj3VIaUvLGvI1tve8iRjtOVinIzoraRTjfx%7E8YPRL4rTyL0kW5kaFcdUmcoikgWOVSZwud38m3A6LlObHwk5P8oFKYWV34W6pfUKqeFbfEi9mSPzwvq0ISbXpaqjYxGMwNftnobKb1YQ7YW4W5fExmZsJkuveRZyfNQm8J70guEIhDm0agqwBobHmNSiIi5VguoDrtIovB%7EeCxSbLB5tw2ItcarRADagr2R6sfk7hqc%7EIH0-3CRHdi0x%7E7GWbanqE3YDLgDpB7EnOefdSMsGDC5ezztxC8nQQ7WOqgrRD8U%7EZir%7E-FdgSdDRaJpY8YvITjbPhbQhluZQWA__&Key-Pair-Id=KVTP0A1DKRTAX\n",
            "Resolving cdn-lfs.huggingface.co (cdn-lfs.huggingface.co)... 18.239.18.84, 18.239.18.94, 18.239.18.68, ...\n",
            "Connecting to cdn-lfs.huggingface.co (cdn-lfs.huggingface.co)|18.239.18.84|:443... connected.\n",
            "HTTP request sent, awaiting response... 200 OK\n",
            "Length: 1082027665 (1.0G) [application/zip]\n",
            "Saving to: ‘inpainting.zip’\n",
            "\n",
            "inpainting.zip      100%[===================>]   1.01G  14.8MB/s    in 1m 40s  \n",
            "\n",
            "2024-05-15 17:55:25 (10.4 MB/s) - ‘inpainting.zip’ saved [1082027665/1082027665]\n",
            "\n",
            "--2024-05-15 17:55:25--  https://huggingface.co/datasets/OpenRL/DeepFakeFace/resolve/main/wiki.zip\n",
            "Resolving huggingface.co (huggingface.co)... 18.239.50.16, 18.239.50.103, 18.239.50.49, ...\n",
            "Connecting to huggingface.co (huggingface.co)|18.239.50.16|:443... connected.\n",
            "HTTP request sent, awaiting response... 302 Found\n",
            "Location: https://cdn-lfs.huggingface.co/repos/43/54/4354080778713efff252f32d0ea8cda241f8af84fe016fdd4e0d57db34b94861/e83b55d6692d54e5aad38427531fa831bf30d1051ccc4267d4db90f03aaa7136?response-content-disposition=attachment%3B+filename*%3DUTF-8%27%27wiki.zip%3B+filename%3D%22wiki.zip%22%3B&response-content-type=application%2Fzip&Expires=1716054925&Policy=eyJTdGF0ZW1lbnQiOlt7IkNvbmRpdGlvbiI6eyJEYXRlTGVzc1RoYW4iOnsiQVdTOkVwb2NoVGltZSI6MTcxNjA1NDkyNX19LCJSZXNvdXJjZSI6Imh0dHBzOi8vY2RuLWxmcy5odWdnaW5nZmFjZS5jby9yZXBvcy80My81NC80MzU0MDgwNzc4NzEzZWZmZjI1MmYzMmQwZWE4Y2RhMjQxZjhhZjg0ZmUwMTZmZGQ0ZTBkNTdkYjM0Yjk0ODYxL2U4M2I1NWQ2NjkyZDU0ZTVhYWQzODQyNzUzMWZhODMxYmYzMGQxMDUxY2NjNDI2N2Q0ZGI5MGYwM2FhYTcxMzY%7EcmVzcG9uc2UtY29udGVudC1kaXNwb3NpdGlvbj0qJnJlc3BvbnNlLWNvbnRlbnQtdHlwZT0qIn1dfQ__&Signature=V5QRWPLPmbji2hAXMRwu15ZqCF9GSwsQTdVc4GwsyWUQNgGVRy9aaTehbydX0m6cF91RdoVyAELqdTpvNZXglJvWtKdJGOGiWeP3xJh3mi9oZmj55WaVAmILmCc-Cp-SUh8yji9K8r9zUfROg71gFo7Hv-VjMG4hmbOIFYcmhyt1%7EtIZimWgVzsQS-xKdByDW73Xhc6R6H%7EMCSQId0IXqVlISOaKfQlJGda8RaA2EhMSL4%7EKavGPSg-0YJipNEqNbH86ftkAR1nPS1sPQtSlue%7EWYDYDZgN4dmmZ4wHtpgUIpb6E3F%7ED-aR91iaqL1ZP0IOq8jJte8SEddK6T%7E1CNA__&Key-Pair-Id=KVTP0A1DKRTAX [following]\n",
            "--2024-05-15 17:55:25--  https://cdn-lfs.huggingface.co/repos/43/54/4354080778713efff252f32d0ea8cda241f8af84fe016fdd4e0d57db34b94861/e83b55d6692d54e5aad38427531fa831bf30d1051ccc4267d4db90f03aaa7136?response-content-disposition=attachment%3B+filename*%3DUTF-8%27%27wiki.zip%3B+filename%3D%22wiki.zip%22%3B&response-content-type=application%2Fzip&Expires=1716054925&Policy=eyJTdGF0ZW1lbnQiOlt7IkNvbmRpdGlvbiI6eyJEYXRlTGVzc1RoYW4iOnsiQVdTOkVwb2NoVGltZSI6MTcxNjA1NDkyNX19LCJSZXNvdXJjZSI6Imh0dHBzOi8vY2RuLWxmcy5odWdnaW5nZmFjZS5jby9yZXBvcy80My81NC80MzU0MDgwNzc4NzEzZWZmZjI1MmYzMmQwZWE4Y2RhMjQxZjhhZjg0ZmUwMTZmZGQ0ZTBkNTdkYjM0Yjk0ODYxL2U4M2I1NWQ2NjkyZDU0ZTVhYWQzODQyNzUzMWZhODMxYmYzMGQxMDUxY2NjNDI2N2Q0ZGI5MGYwM2FhYTcxMzY%7EcmVzcG9uc2UtY29udGVudC1kaXNwb3NpdGlvbj0qJnJlc3BvbnNlLWNvbnRlbnQtdHlwZT0qIn1dfQ__&Signature=V5QRWPLPmbji2hAXMRwu15ZqCF9GSwsQTdVc4GwsyWUQNgGVRy9aaTehbydX0m6cF91RdoVyAELqdTpvNZXglJvWtKdJGOGiWeP3xJh3mi9oZmj55WaVAmILmCc-Cp-SUh8yji9K8r9zUfROg71gFo7Hv-VjMG4hmbOIFYcmhyt1%7EtIZimWgVzsQS-xKdByDW73Xhc6R6H%7EMCSQId0IXqVlISOaKfQlJGda8RaA2EhMSL4%7EKavGPSg-0YJipNEqNbH86ftkAR1nPS1sPQtSlue%7EWYDYDZgN4dmmZ4wHtpgUIpb6E3F%7ED-aR91iaqL1ZP0IOq8jJte8SEddK6T%7E1CNA__&Key-Pair-Id=KVTP0A1DKRTAX\n",
            "Resolving cdn-lfs.huggingface.co (cdn-lfs.huggingface.co)... 18.239.69.103, 18.239.69.105, 18.239.69.94, ...\n",
            "Connecting to cdn-lfs.huggingface.co (cdn-lfs.huggingface.co)|18.239.69.103|:443... connected.\n",
            "HTTP request sent, awaiting response... 200 OK\n",
            "Length: 1766572515 (1.6G) [application/zip]\n",
            "Saving to: ‘wiki.zip’\n",
            "\n",
            "wiki.zip            100%[===================>]   1.64G  40.1MB/s    in 43s     \n",
            "\n",
            "2024-05-15 17:56:09 (39.0 MB/s) - ‘wiki.zip’ saved [1766572515/1766572515]\n",
            "\n"
          ]
        }
      ]
    },
    {
      "cell_type": "code",
      "source": [
        "!unzip -q inpainting.zip\n",
        "!unzip -q wiki.zip\n",
        "\n",
        "\n",
        "!rm -r inpainting.zip\n",
        "!rm -r wiki.zip"
      ],
      "metadata": {
        "id": "ytSg3-FW95a5",
        "execution": {
          "iopub.status.busy": "2024-04-23T16:53:14.432799Z",
          "iopub.execute_input": "2024-04-23T16:53:14.433126Z",
          "iopub.status.idle": "2024-04-23T16:53:42.421073Z",
          "shell.execute_reply.started": "2024-04-23T16:53:14.433094Z",
          "shell.execute_reply": "2024-04-23T16:53:42.419729Z"
        },
        "trusted": true
      },
      "execution_count": null,
      "outputs": []
    },
    {
      "cell_type": "code",
      "source": [
        "import os\n",
        "import shutil\n",
        "\n",
        "def copy_images(source_folder, destination_folder):\n",
        "    # Create the destination folder if it doesn't exist\n",
        "    if not os.path.exists(destination_folder):\n",
        "        os.makedirs(destination_folder)\n",
        "\n",
        "    # Walk through each subfolder in the source folder\n",
        "    for root, dirs, files in os.walk(source_folder):\n",
        "        for file in files:\n",
        "            # Check if the file is an image\n",
        "            if file.lower().endswith(('.jpg', '.jpeg', '.png', '.gif')):\n",
        "                # Get the full path of the image\n",
        "                source_path = os.path.join(root, file)\n",
        "                # Copy the image to the destination folder\n",
        "                shutil.copy(source_path, destination_folder)"
      ],
      "metadata": {
        "id": "YWT3XPHSd0J2",
        "execution": {
          "iopub.status.busy": "2024-04-23T16:53:42.422861Z",
          "iopub.execute_input": "2024-04-23T16:53:42.423221Z",
          "iopub.status.idle": "2024-04-23T16:53:42.430400Z",
          "shell.execute_reply.started": "2024-04-23T16:53:42.423185Z",
          "shell.execute_reply": "2024-04-23T16:53:42.429510Z"
        },
        "trusted": true
      },
      "execution_count": null,
      "outputs": []
    },
    {
      "cell_type": "code",
      "source": [
        "!rm -r real\n",
        "!rm -r fake\n",
        "!rm -r real_vs_fake"
      ],
      "metadata": {
        "execution": {
          "iopub.status.busy": "2024-04-23T16:53:42.431793Z",
          "iopub.execute_input": "2024-04-23T16:53:42.432445Z",
          "iopub.status.idle": "2024-04-23T16:53:45.369646Z",
          "shell.execute_reply.started": "2024-04-23T16:53:42.432404Z",
          "shell.execute_reply": "2024-04-23T16:53:45.368389Z"
        },
        "trusted": true,
        "colab": {
          "base_uri": "https://localhost:8080/"
        },
        "id": "F2yn6zmsAeQG",
        "outputId": "0d6aafab-aa9c-43ff-92cc-b6e2db32a82c"
      },
      "execution_count": null,
      "outputs": [
        {
          "output_type": "stream",
          "name": "stdout",
          "text": [
            "rm: cannot remove 'real': No such file or directory\n",
            "rm: cannot remove 'fake': No such file or directory\n",
            "rm: cannot remove 'real_vs_fake': No such file or directory\n"
          ]
        }
      ]
    },
    {
      "cell_type": "code",
      "source": [
        "# Specify the source folder containing subfolders with images\n",
        "destination_folder = 'real'\n",
        "# Specify the destination folder where images will be copied\n",
        "source_folder = 'wiki'\n",
        "\n",
        "# Call the function to copy images\n",
        "copy_images(source_folder, destination_folder)"
      ],
      "metadata": {
        "id": "9SAyKGqpgEE8",
        "execution": {
          "iopub.status.busy": "2024-04-23T16:53:45.371207Z",
          "iopub.execute_input": "2024-04-23T16:53:45.371572Z",
          "iopub.status.idle": "2024-04-23T16:53:49.992676Z",
          "shell.execute_reply.started": "2024-04-23T16:53:45.371538Z",
          "shell.execute_reply": "2024-04-23T16:53:49.991924Z"
        },
        "trusted": true
      },
      "execution_count": null,
      "outputs": []
    },
    {
      "cell_type": "code",
      "source": [
        "# Specify the source folder containing subfolders with images\n",
        "destination_folder = 'fake'\n",
        "# Specify the destination folder where images will be copied\n",
        "source_folder = 'inpainting'\n",
        "\n",
        "# Call the function to copy images\n",
        "copy_images(source_folder, destination_folder)"
      ],
      "metadata": {
        "id": "87pAn6w4gL80",
        "execution": {
          "iopub.status.busy": "2024-04-23T16:53:49.993711Z",
          "iopub.execute_input": "2024-04-23T16:53:49.993986Z",
          "iopub.status.idle": "2024-04-23T16:53:54.146688Z",
          "shell.execute_reply.started": "2024-04-23T16:53:49.993960Z",
          "shell.execute_reply": "2024-04-23T16:53:54.145659Z"
        },
        "trusted": true
      },
      "execution_count": null,
      "outputs": []
    },
    {
      "cell_type": "code",
      "source": [
        "import os\n",
        "from PIL import Image\n",
        "import shutil\n",
        "import numpy as np\n",
        "import matplotlib.pyplot as plt\n",
        "import numpy as np\n",
        "from PIL import Image\n",
        "from tqdm import tqdm"
      ],
      "metadata": {
        "id": "ni4pBvEdLb-r"
      },
      "execution_count": null,
      "outputs": []
    },
    {
      "cell_type": "code",
      "source": [
        "def compute_fft_magnitude_spectrum(image):\n",
        "    \"\"\"\n",
        "    Compute the magnitude spectrum of the 2D Fourier Transform of an image.\n",
        "\n",
        "    Parameters:\n",
        "    image (PIL.Image.Image): The input image.\n",
        "\n",
        "    Returns:\n",
        "    numpy.ndarray: The magnitude spectrum of the image.\n",
        "    \"\"\"\n",
        "    # Convert the image to grayscale\n",
        "    gray_image = image.convert('L')\n",
        "\n",
        "    # Compute the 2D Fourier Transform\n",
        "    fourier_transform1 = np.fft.fft2(gray_image)\n",
        "\n",
        "    # Shift the zero frequency component to the center\n",
        "    fourier_transform_shifted = np.fft.fftshift(fourier_transform1)\n",
        "\n",
        "    # Compute the magnitude spectrum\n",
        "    magnitude_spectrum1 = 20 * np.log(np.abs(fourier_transform_shifted) + 1e-8)\n",
        "\n",
        "    return magnitude_spectrum1\n",
        "\n",
        "def process_images(input_folder, output_folder):\n",
        "    \"\"\"\n",
        "    Process all images in the input folder, compute their magnitude spectrum,\n",
        "    and save the results in the output folder.\n",
        "\n",
        "    Parameters:\n",
        "    input_folder (str): The path to the input folder containing images.\n",
        "    output_folder (str): The path to the output folder to save the magnitude spectra.\n",
        "    \"\"\"\n",
        "    if not os.path.exists(output_folder):\n",
        "        os.makedirs(output_folder)\n",
        "\n",
        "    for filename in tqdm(os.listdir(input_folder)):\n",
        "        if filename.endswith(('.png', '.jpg', '.jpeg', '.bmp', '.tiff')):\n",
        "            image_path = os.path.join(input_folder, filename)\n",
        "            image = Image.open(image_path)\n",
        "\n",
        "            magnitude_spectrum = compute_fft_magnitude_spectrum(image)\n",
        "\n",
        "            # Save the magnitude spectrum as an image\n",
        "            output_path = os.path.join(output_folder, f\"{os.path.splitext(filename)[0]}_fourier.png\")\n",
        "            plt.imsave(output_path, magnitude_spectrum, cmap='gray')"
      ],
      "metadata": {
        "id": "vOuUWoFgMrx0"
      },
      "execution_count": null,
      "outputs": []
    },
    {
      "cell_type": "code",
      "source": [
        "# Process the images in the \"real\" folder\n",
        "process_images('real', 'real_fourier')"
      ],
      "metadata": {
        "colab": {
          "base_uri": "https://localhost:8080/"
        },
        "id": "iIYzaSYHGo0H",
        "outputId": "45eeb094-35f5-4c02-b702-79fc0230ca8d"
      },
      "execution_count": null,
      "outputs": [
        {
          "output_type": "stream",
          "name": "stderr",
          "text": [
            "  0%|          | 64/30000 [00:10<1:25:56,  5.80it/s]/usr/local/lib/python3.10/dist-packages/PIL/TiffImagePlugin.py:858: UserWarning: Corrupt EXIF data.  Expecting to read 2 bytes but only got 0. \n",
            "  warnings.warn(str(msg))\n",
            "100%|██████████| 30000/30000 [1:14:57<00:00,  6.67it/s]\n"
          ]
        }
      ]
    },
    {
      "cell_type": "code",
      "source": [
        "!zip -r real_fourier.zip real_fourier"
      ],
      "metadata": {
        "id": "g7E6BqFUxNH4"
      },
      "execution_count": null,
      "outputs": []
    },
    {
      "cell_type": "code",
      "source": [],
      "metadata": {
        "id": "txzS_D0LzZZE"
      },
      "execution_count": null,
      "outputs": []
    },
    {
      "cell_type": "code",
      "source": [
        "# Process the images in the \"fake\" folder\n",
        "process_images('fake', 'fake_fourier')"
      ],
      "metadata": {
        "colab": {
          "base_uri": "https://localhost:8080/"
        },
        "id": "CC1cI0t2ZCVk",
        "outputId": "59978438-946b-4e2e-d7e9-213337b1e85e"
      },
      "execution_count": null,
      "outputs": [
        {
          "output_type": "stream",
          "name": "stderr",
          "text": [
            "100%|██████████| 30000/30000 [1:28:23<00:00,  5.66it/s]\n"
          ]
        }
      ]
    },
    {
      "cell_type": "code",
      "source": [
        "!zip -r fake_fourier.zip fake_fourier"
      ],
      "metadata": {
        "id": "f4UQ1g0DxSeA"
      },
      "execution_count": null,
      "outputs": []
    },
    {
      "cell_type": "code",
      "source": [
        "!du -h real_fourier.zip"
      ],
      "metadata": {
        "colab": {
          "base_uri": "https://localhost:8080/"
        },
        "id": "WKOeAQgqPXoo",
        "outputId": "c169c6d2-35c3-4313-e6f5-8234dd6ec5aa"
      },
      "execution_count": null,
      "outputs": [
        {
          "output_type": "stream",
          "name": "stdout",
          "text": [
            "7.6G\treal_fourier.zip\n"
          ]
        }
      ]
    },
    {
      "cell_type": "code",
      "source": [
        "!du -h fake_fourier.zip"
      ],
      "metadata": {
        "colab": {
          "base_uri": "https://localhost:8080/"
        },
        "id": "srqPSWLvPaxl",
        "outputId": "da58ecc0-406e-4e2c-d84a-112ee9fd60ad"
      },
      "execution_count": null,
      "outputs": [
        {
          "output_type": "stream",
          "name": "stdout",
          "text": [
            "9.1G\tfake_fourier.zip\n"
          ]
        }
      ]
    },
    {
      "cell_type": "code",
      "source": [
        "!cp /content/real_fourier.zip /content/drive/MyDrive/UPC/TER/Fourier/"
      ],
      "metadata": {
        "id": "UywO3yXdF7lY"
      },
      "execution_count": null,
      "outputs": []
    },
    {
      "cell_type": "code",
      "source": [
        "!cp /content/fake_fourier.zip /content/drive/MyDrive/UPC/TER/Fourier/"
      ],
      "metadata": {
        "id": "hQgZqXc_PEHD"
      },
      "execution_count": null,
      "outputs": []
    },
    {
      "cell_type": "code",
      "source": [
        "import os\n",
        "\n",
        "def count_files_in_folder(folder_path):\n",
        "    \"\"\"\n",
        "    Count the number of files in a folder.\n",
        "\n",
        "    Parameters:\n",
        "    folder_path (str): The path to the folder.\n",
        "\n",
        "    Returns:\n",
        "    int: The number of files in the folder.\n",
        "    \"\"\"\n",
        "    file_count = 0\n",
        "    for filename in os.listdir(folder_path):\n",
        "        if os.path.isfile(os.path.join(folder_path, filename)):\n",
        "            file_count += 1\n",
        "    return file_count\n",
        "\n",
        "# Example usage:\n",
        "real_folder_count = count_files_in_folder('real')\n",
        "fake_folder_count = count_files_in_folder('fake')\n",
        "\n",
        "print(f\"Number of files in 'real' folder: {real_folder_count}\")\n",
        "print(f\"Number of files in 'fake' folder: {fake_folder_count}\")\n",
        "\n",
        "real_folder_count = count_files_in_folder('real_fourier')\n",
        "fake_folder_count = count_files_in_folder('fake_fourier')\n",
        "\n",
        "print(f\"Number of files in 'real_fourier' folder: {real_folder_count}\")\n",
        "print(f\"Number of files in 'fake_fourier' folder: {fake_folder_count}\")\n"
      ],
      "metadata": {
        "id": "u6nJPiliHMd_"
      },
      "execution_count": null,
      "outputs": []
    },
    {
      "cell_type": "markdown",
      "source": [
        "# Else"
      ],
      "metadata": {
        "id": "5dwVePOaKRmr"
      }
    },
    {
      "cell_type": "code",
      "source": [
        "!mkdir real_vs_fake"
      ],
      "metadata": {
        "id": "nvdkod0AikXo",
        "execution": {
          "iopub.status.busy": "2024-04-23T16:53:54.150674Z",
          "iopub.execute_input": "2024-04-23T16:53:54.150978Z",
          "iopub.status.idle": "2024-04-23T16:53:55.142243Z",
          "shell.execute_reply.started": "2024-04-23T16:53:54.150950Z",
          "shell.execute_reply": "2024-04-23T16:53:55.141197Z"
        },
        "trusted": true
      },
      "execution_count": null,
      "outputs": []
    },
    {
      "cell_type": "code",
      "source": [
        "import os\n",
        "import shutil\n",
        "import random\n",
        "\n",
        "# Define paths\n",
        "source_folder = \"real_fourier\"\n",
        "destination_folder = \"real_vs_fake\"\n",
        "\n",
        "# Create destination folder if it doesn't exist\n",
        "if not os.path.exists(destination_folder):\n",
        "    os.makedirs(destination_folder)\n",
        "\n",
        "# Create test, train, and valid folders within destination folder\n",
        "folders = ['test', 'train', 'valid']\n",
        "for folder in folders:\n",
        "    os.makedirs(os.path.join(destination_folder, folder, 'real'), exist_ok=True)\n",
        "\n",
        "# List all images in source folder\n",
        "images = os.listdir(source_folder)\n",
        "random.shuffle(images)\n",
        "\n",
        "# Calculate the number of images for each category\n",
        "total_images = len(images)\n",
        "test_count = 5000\n",
        "train_count = int(0.8 * (total_images - test_count))\n",
        "valid_count = total_images - test_count - train_count\n",
        "\n",
        "# Move images to respective folders\n",
        "for folder, count in [('test', test_count), ('train', train_count), ('valid', valid_count)]:\n",
        "    for i in range(count):\n",
        "        image = images.pop()\n",
        "        shutil.copy(os.path.join(source_folder, image), os.path.join(destination_folder, folder, 'real'))\n",
        "\n",
        "# Copy train, valid, and test folders to real_vs_fake\n",
        "# for folder in folders:\n",
        "#     shutil.copytree(os.path.join(destination_folder, folder), os.path.join(destination_folder, 'real_vs_fake', folder))\n"
      ],
      "metadata": {
        "id": "oAlhHhhJgoRy",
        "execution": {
          "iopub.status.busy": "2024-04-23T16:53:55.143760Z",
          "iopub.execute_input": "2024-04-23T16:53:55.144112Z",
          "iopub.status.idle": "2024-04-23T16:53:59.744880Z",
          "shell.execute_reply.started": "2024-04-23T16:53:55.144077Z",
          "shell.execute_reply": "2024-04-23T16:53:59.743550Z"
        },
        "trusted": true
      },
      "execution_count": null,
      "outputs": []
    },
    {
      "cell_type": "code",
      "source": [
        "import os\n",
        "import shutil\n",
        "import random"
      ],
      "metadata": {
        "execution": {
          "iopub.status.busy": "2024-04-23T16:53:59.746719Z",
          "iopub.execute_input": "2024-04-23T16:53:59.746991Z",
          "iopub.status.idle": "2024-04-23T16:53:59.751119Z",
          "shell.execute_reply.started": "2024-04-23T16:53:59.746967Z",
          "shell.execute_reply": "2024-04-23T16:53:59.750124Z"
        },
        "trusted": true,
        "id": "zXQVL3OMAeQH"
      },
      "execution_count": null,
      "outputs": []
    },
    {
      "cell_type": "code",
      "source": [
        "# Define paths\n",
        "source_folder = \"fake_fourier\"\n",
        "destination_folder = \"real_vs_fake\"\n",
        "\n",
        "# Create destination folder if it doesn't exist\n",
        "if not os.path.exists(destination_folder):\n",
        "    os.makedirs(destination_folder)\n",
        "\n",
        "# Create test, train, and valid folders within destination folder\n",
        "folders = ['test', 'train', 'valid']\n",
        "for folder in folders:\n",
        "    os.makedirs(os.path.join(destination_folder, folder, 'fake'), exist_ok=True)\n",
        "\n",
        "# List all images in source folder\n",
        "images = os.listdir(source_folder)\n",
        "random.shuffle(images)\n",
        "\n",
        "# Calculate the number of images for each category\n",
        "total_images = len(images)\n",
        "test_count = 5000\n",
        "train_count = int(0.8 * (total_images - test_count))\n",
        "valid_count = total_images - test_count - train_count\n",
        "\n",
        "# Move images to respective folders\n",
        "for folder, count in [('test', test_count), ('train', train_count), ('valid', valid_count)]:\n",
        "    for i in range(count):\n",
        "        image = images.pop()\n",
        "        shutil.copy(os.path.join(source_folder, image), os.path.join(destination_folder, folder, 'fake'))\n",
        "\n",
        "# Copy train, valid, and test folders to real_vs_fake\n",
        "# for folder in folders:\n",
        "#     shutil.copytree(os.path.join(destination_folder, folder), os.path.join(destination_folder, 'real_vs_fake', folder))\n"
      ],
      "metadata": {
        "id": "oy3dkHMMijDG",
        "execution": {
          "iopub.status.busy": "2024-04-23T16:53:59.752343Z",
          "iopub.execute_input": "2024-04-23T16:53:59.752897Z",
          "iopub.status.idle": "2024-04-23T16:54:05.304861Z",
          "shell.execute_reply.started": "2024-04-23T16:53:59.752863Z",
          "shell.execute_reply": "2024-04-23T16:54:05.303874Z"
        },
        "trusted": true
      },
      "execution_count": null,
      "outputs": []
    },
    {
      "cell_type": "markdown",
      "source": [],
      "metadata": {
        "id": "uyZAyhowAeQH"
      }
    },
    {
      "cell_type": "code",
      "source": [
        "# !rm -r /kaggle/working/real_vs_fake\n",
        "# !rm -r /kaggle/working/fake\n",
        "# !rm -r /kaggle/working/real"
      ],
      "metadata": {
        "execution": {
          "iopub.status.busy": "2024-04-23T16:54:05.306059Z",
          "iopub.execute_input": "2024-04-23T16:54:05.306371Z",
          "iopub.status.idle": "2024-04-23T16:54:05.311117Z",
          "shell.execute_reply.started": "2024-04-23T16:54:05.306343Z",
          "shell.execute_reply": "2024-04-23T16:54:05.309855Z"
        },
        "trusted": true,
        "id": "uBjpMy86AeQI"
      },
      "execution_count": null,
      "outputs": []
    },
    {
      "cell_type": "code",
      "source": [
        "def count_files(folder_path):\n",
        "    # Initialize count\n",
        "    file_count = 0\n",
        "\n",
        "    # Walk through the folder and count files\n",
        "    for _, _, files in os.walk(folder_path):\n",
        "        file_count += len(files)\n",
        "\n",
        "    return file_count"
      ],
      "metadata": {
        "id": "isumAViQgyZo",
        "execution": {
          "iopub.status.busy": "2024-04-23T16:54:05.312727Z",
          "iopub.execute_input": "2024-04-23T16:54:05.313070Z",
          "iopub.status.idle": "2024-04-23T16:54:05.324651Z",
          "shell.execute_reply.started": "2024-04-23T16:54:05.313037Z",
          "shell.execute_reply": "2024-04-23T16:54:05.323699Z"
        },
        "trusted": true
      },
      "execution_count": null,
      "outputs": []
    },
    {
      "cell_type": "code",
      "source": [
        "# Specify the folder path\n",
        "folders = ['test', 'train', 'valid']\n",
        "folder_path = 'real_vs_fake/'\n",
        "\n",
        "for i in folders:\n",
        "  print(\"Number of files in fake/\"+str(i)+\" :\", count_files(folder_path+i+'/fake'))"
      ],
      "metadata": {
        "id": "WIUyoGpcguam",
        "execution": {
          "iopub.status.busy": "2024-04-23T16:54:05.326287Z",
          "iopub.execute_input": "2024-04-23T16:54:05.326845Z",
          "iopub.status.idle": "2024-04-23T16:54:05.398787Z",
          "shell.execute_reply.started": "2024-04-23T16:54:05.326819Z",
          "shell.execute_reply": "2024-04-23T16:54:05.397626Z"
        },
        "trusted": true
      },
      "execution_count": null,
      "outputs": []
    },
    {
      "cell_type": "code",
      "source": [
        "# Specify the folder path\n",
        "folders = ['test', 'train', 'valid']\n",
        "folder_path = 'real_vs_fake/'\n",
        "\n",
        "for i in folders:\n",
        "  print(\"Number of files in real/\"+str(i)+\" :\", count_files(folder_path+i+'/real'))"
      ],
      "metadata": {
        "id": "3oU59HAYgvfk",
        "execution": {
          "iopub.status.busy": "2024-04-23T16:54:05.400092Z",
          "iopub.execute_input": "2024-04-23T16:54:05.402050Z",
          "iopub.status.idle": "2024-04-23T16:54:05.448247Z",
          "shell.execute_reply.started": "2024-04-23T16:54:05.402013Z",
          "shell.execute_reply": "2024-04-23T16:54:05.447155Z"
        },
        "trusted": true
      },
      "execution_count": null,
      "outputs": []
    },
    {
      "cell_type": "code",
      "source": [
        "import cv2\n",
        "import numpy as np\n",
        "from tensorflow.keras import layers\n",
        "from tensorflow.keras.applications import DenseNet121\n",
        "from tensorflow.keras.callbacks import Callback, ModelCheckpoint\n",
        "from tensorflow.keras.preprocessing.image import ImageDataGenerator\n",
        "from tensorflow.keras.models import Sequential\n",
        "from tensorflow.keras.optimizers import Adam\n",
        "import matplotlib.pyplot as plt\n",
        "import pandas as pd\n",
        "from sklearn.model_selection import train_test_split\n",
        "from sklearn import metrics\n",
        "import tensorflow as tf\n",
        "from tqdm import tqdm"
      ],
      "metadata": {
        "id": "yoI0F3p--Ajt",
        "execution": {
          "iopub.status.busy": "2024-04-23T16:54:05.452847Z",
          "iopub.execute_input": "2024-04-23T16:54:05.453355Z",
          "iopub.status.idle": "2024-04-23T16:54:19.276062Z",
          "shell.execute_reply.started": "2024-04-23T16:54:05.453309Z",
          "shell.execute_reply": "2024-04-23T16:54:19.275231Z"
        },
        "trusted": true
      },
      "execution_count": null,
      "outputs": []
    },
    {
      "cell_type": "code",
      "source": [
        "import keras"
      ],
      "metadata": {
        "execution": {
          "iopub.status.busy": "2024-04-23T16:54:19.277163Z",
          "iopub.execute_input": "2024-04-23T16:54:19.277833Z",
          "iopub.status.idle": "2024-04-23T16:54:19.282992Z",
          "shell.execute_reply.started": "2024-04-23T16:54:19.277801Z",
          "shell.execute_reply": "2024-04-23T16:54:19.282102Z"
        },
        "trusted": true,
        "id": "pAfGqiNeAeQI"
      },
      "execution_count": null,
      "outputs": []
    },
    {
      "cell_type": "code",
      "source": [
        "base_path = 'real_vs_fake/'\n",
        "image_gen = ImageDataGenerator(rescale=1./255)\n",
        "\n",
        "train_flow = image_gen.flow_from_directory(\n",
        "    base_path + 'train/',\n",
        "    target_size=(224, 224),\n",
        "    batch_size=64,\n",
        "    class_mode='binary'\n",
        ")"
      ],
      "metadata": {
        "id": "yGkuJqoa-jcn",
        "execution": {
          "iopub.status.busy": "2024-04-23T16:54:20.805257Z",
          "iopub.execute_input": "2024-04-23T16:54:20.805570Z",
          "iopub.status.idle": "2024-04-23T16:54:26.329284Z",
          "shell.execute_reply.started": "2024-04-23T16:54:20.805543Z",
          "shell.execute_reply": "2024-04-23T16:54:26.328285Z"
        },
        "trusted": true
      },
      "execution_count": null,
      "outputs": []
    },
    {
      "cell_type": "code",
      "source": [
        "image_gen1 = ImageDataGenerator(rescale=1./255)\n",
        "\n",
        "valid_flow = image_gen1.flow_from_directory(\n",
        "    base_path + 'valid/',\n",
        "    target_size=(224, 224),\n",
        "    batch_size=64,\n",
        "    class_mode='binary'\n",
        ")"
      ],
      "metadata": {
        "id": "fEs3NcBb-to7",
        "execution": {
          "iopub.status.busy": "2024-04-23T16:54:26.330620Z",
          "iopub.execute_input": "2024-04-23T16:54:26.331354Z",
          "iopub.status.idle": "2024-04-23T16:54:26.598751Z",
          "shell.execute_reply.started": "2024-04-23T16:54:26.331316Z",
          "shell.execute_reply": "2024-04-23T16:54:26.597947Z"
        },
        "trusted": true
      },
      "execution_count": null,
      "outputs": []
    },
    {
      "cell_type": "code",
      "source": [
        "image_gen1 = ImageDataGenerator(rescale=1./255.)\n",
        "test_flow = image_gen.flow_from_directory(\n",
        "    base_path + 'test/',\n",
        "    target_size=(224, 224),\n",
        "    batch_size=64,\n",
        "    class_mode='binary'\n",
        ")"
      ],
      "metadata": {
        "execution": {
          "iopub.status.busy": "2024-04-23T16:54:26.599847Z",
          "iopub.execute_input": "2024-04-23T16:54:26.600141Z",
          "iopub.status.idle": "2024-04-23T16:54:26.870601Z",
          "shell.execute_reply.started": "2024-04-23T16:54:26.600114Z",
          "shell.execute_reply": "2024-04-23T16:54:26.869665Z"
        },
        "trusted": true,
        "id": "hyvDWe78AeQJ"
      },
      "execution_count": null,
      "outputs": []
    },
    {
      "cell_type": "code",
      "source": [
        "strategy = tf.distribute.MirroredStrategy()\n",
        "print('Number of devices: {}'.format(strategy.num_replicas_in_sync))"
      ],
      "metadata": {
        "execution": {
          "iopub.status.busy": "2024-04-23T16:54:26.871924Z",
          "iopub.execute_input": "2024-04-23T16:54:26.872670Z",
          "iopub.status.idle": "2024-04-23T16:54:27.489551Z",
          "shell.execute_reply.started": "2024-04-23T16:54:26.872632Z",
          "shell.execute_reply": "2024-04-23T16:54:27.488642Z"
        },
        "trusted": true,
        "id": "XplMyFO5AeQJ"
      },
      "execution_count": null,
      "outputs": []
    },
    {
      "cell_type": "code",
      "source": [
        "def build_model(pretrained, learning_rate=0.0001):\n",
        "    model = Sequential([\n",
        "        pretrained,\n",
        "        layers.GlobalAveragePooling2D(),\n",
        "        layers.Dense(1, activation='sigmoid')\n",
        "    ])\n",
        "\n",
        "    model.compile(\n",
        "        loss='binary_crossentropy',\n",
        "        optimizer=Adam(learning_rate=learning_rate),\n",
        "        metrics=['accuracy', keras.metrics.AUC(), keras.metrics.Precision(), keras.metrics.Recall()]\n",
        "    )\n",
        "\n",
        "    return model"
      ],
      "metadata": {
        "id": "g73ZLa6g-YnK",
        "execution": {
          "iopub.status.busy": "2024-04-23T16:54:19.287678Z",
          "iopub.execute_input": "2024-04-23T16:54:19.288554Z",
          "iopub.status.idle": "2024-04-23T16:54:20.804217Z",
          "shell.execute_reply.started": "2024-04-23T16:54:19.288517Z",
          "shell.execute_reply": "2024-04-23T16:54:20.803133Z"
        },
        "trusted": true
      },
      "execution_count": null,
      "outputs": []
    },
    {
      "cell_type": "code",
      "source": [
        "densenet = DenseNet121(\n",
        "    weights=\"imagenet\",\n",
        "    include_top=False,\n",
        "    input_shape=(224,224,3)\n",
        ")\n",
        "model = build_model(densenet)\n",
        "model.summary()"
      ],
      "metadata": {
        "id": "le_GVn1M-vND",
        "execution": {
          "iopub.status.busy": "2024-04-23T16:54:27.490975Z",
          "iopub.execute_input": "2024-04-23T16:54:27.491725Z",
          "iopub.status.idle": "2024-04-23T16:54:30.437842Z",
          "shell.execute_reply.started": "2024-04-23T16:54:27.491695Z",
          "shell.execute_reply": "2024-04-23T16:54:30.436914Z"
        },
        "trusted": true
      },
      "execution_count": null,
      "outputs": []
    },
    {
      "cell_type": "code",
      "source": [
        "from keras.callbacks import EarlyStopping, ModelCheckpoint\n",
        "\n",
        "early_stopping = EarlyStopping(monitor='val_loss', patience=5)  # Stop training if no improvement after 3 epochs\n",
        "checkpoint = ModelCheckpoint('DenseNetImagenetFourier.model.keras', monitor='val_loss', save_best_only=True)  # Save the best model"
      ],
      "metadata": {
        "id": "9sN7fm9x_aRA",
        "execution": {
          "iopub.status.busy": "2024-04-23T16:54:30.438896Z",
          "iopub.execute_input": "2024-04-23T16:54:30.439149Z",
          "iopub.status.idle": "2024-04-23T16:54:30.443933Z",
          "shell.execute_reply.started": "2024-04-23T16:54:30.439125Z",
          "shell.execute_reply": "2024-04-23T16:54:30.443076Z"
        },
        "trusted": true
      },
      "execution_count": null,
      "outputs": []
    },
    {
      "cell_type": "code",
      "source": [
        "# !rm /kaggle/working/DenseNetNoW.keras"
      ],
      "metadata": {
        "execution": {
          "iopub.status.busy": "2024-04-23T16:54:30.444958Z",
          "iopub.execute_input": "2024-04-23T16:54:30.445207Z",
          "iopub.status.idle": "2024-04-23T16:54:30.459822Z",
          "shell.execute_reply.started": "2024-04-23T16:54:30.445184Z",
          "shell.execute_reply": "2024-04-23T16:54:30.458881Z"
        },
        "trusted": true,
        "id": "2zDoEV2LAeQJ"
      },
      "execution_count": null,
      "outputs": []
    },
    {
      "cell_type": "code",
      "source": [
        "history = model.fit(\n",
        "    train_flow,\n",
        "    epochs = 5,\n",
        "    validation_data =valid_flow,\n",
        "    callbacks=[checkpoint]\n",
        ")"
      ],
      "metadata": {
        "id": "ulDvC1XO-wdH",
        "execution": {
          "iopub.status.busy": "2024-04-23T16:54:30.461213Z",
          "iopub.execute_input": "2024-04-23T16:54:30.461573Z",
          "iopub.status.idle": "2024-04-23T17:17:46.802078Z",
          "shell.execute_reply.started": "2024-04-23T16:54:30.461543Z",
          "shell.execute_reply": "2024-04-23T17:17:46.801283Z"
        },
        "trusted": true
      },
      "execution_count": null,
      "outputs": []
    },
    {
      "cell_type": "code",
      "source": [
        "import pickle\n",
        "with open('trainHistoryDenseNetImagenetFourier.pkl', 'wb') as file_pi:\n",
        "    pickle.dump(history.history, file_pi)"
      ],
      "metadata": {
        "id": "XjPE08fCbHRR",
        "execution": {
          "iopub.status.busy": "2024-04-23T17:27:52.156861Z",
          "iopub.execute_input": "2024-04-23T17:27:52.157232Z",
          "iopub.status.idle": "2024-04-23T17:27:52.162569Z",
          "shell.execute_reply.started": "2024-04-23T17:27:52.157200Z",
          "shell.execute_reply": "2024-04-23T17:27:52.161645Z"
        },
        "trusted": true
      },
      "execution_count": null,
      "outputs": []
    },
    {
      "cell_type": "code",
      "source": [
        "import seaborn as sns\n",
        "from sklearn.metrics import confusion_matrix, roc_auc_score, f1_score, mean_absolute_error, mean_squared_error, accuracy_score\n",
        "\n",
        "# Accuracy and loss history\n",
        "plt.figure(figsize=(12, 6))\n",
        "\n",
        "# Plot training & validation accuracy values\n",
        "plt.subplot(1, 2, 1)\n",
        "plt.plot(history.history['accuracy'])\n",
        "plt.plot(history.history['val_accuracy'])\n",
        "plt.title('Model accuracy')\n",
        "plt.ylabel('Accuracy')\n",
        "plt.xlabel('Epoch')\n",
        "plt.legend(['Train', 'Validation'], loc='upper left')\n",
        "\n",
        "# Plot training & validation loss values\n",
        "plt.subplot(1, 2, 2)\n",
        "plt.plot(history.history['loss'])\n",
        "plt.plot(history.history['val_loss'])\n",
        "plt.title('Model loss')\n",
        "plt.ylabel('Loss')\n",
        "plt.xlabel('Epoch')\n",
        "plt.legend(['Train', 'Validation'], loc='upper left')\n",
        "plt.show()"
      ],
      "metadata": {
        "id": "_OucIqlKCoW-",
        "execution": {
          "iopub.status.busy": "2024-04-23T17:17:46.810005Z",
          "iopub.execute_input": "2024-04-23T17:17:46.810617Z",
          "iopub.status.idle": "2024-04-23T17:17:47.586589Z",
          "shell.execute_reply.started": "2024-04-23T17:17:46.810583Z",
          "shell.execute_reply": "2024-04-23T17:17:47.585592Z"
        },
        "trusted": true
      },
      "execution_count": null,
      "outputs": []
    },
    {
      "cell_type": "code",
      "source": [
        "import seaborn as sns\n",
        "from sklearn.metrics import confusion_matrix, roc_auc_score, f1_score, mean_absolute_error, mean_squared_error, accuracy_score\n",
        "\n",
        "# Accuracy and loss history\n",
        "plt.figure(figsize=(12, 6))\n",
        "\n",
        "# Plot training & validation accuracy values\n",
        "plt.figure(figsize=(12, 6))\n",
        "plt.plot(history.history['accuracy'])\n",
        "plt.plot(history.history['val_accuracy'])\n",
        "plt.title('Model accuracy')\n",
        "plt.ylabel('Accuracy')\n",
        "plt.xlabel('Epoch')\n",
        "plt.legend(['Train', 'Validation'], loc='upper left')\n",
        "plt.show()\n",
        "\n",
        "# Plot training & validation loss values\n",
        "plt.figure(figsize=(12, 6))\n",
        "plt.plot(history.history['loss'])\n",
        "plt.plot(history.history['val_loss'])\n",
        "plt.title('Model loss')\n",
        "plt.ylabel('Loss')\n",
        "plt.xlabel('Epoch')\n",
        "plt.legend(['Train', 'Validation'], loc='upper left')\n",
        "plt.show()\n",
        "\n",
        "# Plot training & validation precision values\n",
        "plt.figure(figsize=(12, 6))\n",
        "plt.plot(history.history['precision'])\n",
        "plt.plot(history.history['val_precision'])\n",
        "plt.title('Model precision')\n",
        "plt.ylabel('Precision')\n",
        "plt.xlabel('Epoch')\n",
        "plt.legend(['Train', 'Validation'], loc='upper left')\n",
        "plt.show()\n",
        "\n",
        "# Plot training & validation recall values\n",
        "plt.figure(figsize=(12, 6))\n",
        "plt.plot(history.history['recall'])\n",
        "plt.plot(history.history['val_recall'])\n",
        "plt.title('Model recall')\n",
        "plt.ylabel('Recall')\n",
        "plt.xlabel('Epoch')\n",
        "plt.legend(['Train', 'Validation'], loc='upper left')\n",
        "plt.show()\n",
        "\n",
        "# Plot training & validation AUC values\n",
        "plt.figure(figsize=(12, 6))\n",
        "plt.plot(history.history['auc'])\n",
        "plt.plot(history.history['val_auc'])\n",
        "plt.title('Model AUC')\n",
        "plt.ylabel('AUC')\n",
        "plt.xlabel('Epoch')\n",
        "plt.legend(['Train', 'Validation'], loc='upper left')\n",
        "plt.show()\n"
      ],
      "metadata": {
        "id": "_U9LbbdfKOrg"
      },
      "execution_count": null,
      "outputs": []
    },
    {
      "cell_type": "code",
      "source": [
        "# from tensorflow.keras.models import load_model\n",
        "# model2 = build_model(densenet)\n",
        "# model2.compile()\n",
        "# # Load the model\n",
        "# model2.load_weights('/kaggle/working/DenseNetNoW.weights.h5')"
      ],
      "metadata": {
        "execution": {
          "iopub.status.busy": "2024-04-23T17:17:47.587760Z",
          "iopub.execute_input": "2024-04-23T17:17:47.588050Z",
          "iopub.status.idle": "2024-04-23T17:17:47.592505Z",
          "shell.execute_reply.started": "2024-04-23T17:17:47.588024Z",
          "shell.execute_reply": "2024-04-23T17:17:47.591520Z"
        },
        "trusted": true,
        "id": "0oRGeHT3AeQK"
      },
      "execution_count": null,
      "outputs": []
    },
    {
      "cell_type": "code",
      "source": [
        "# from tensorflow.keras.models import load_model\n",
        "\n",
        "\n",
        "# model2 = build_model(densenet)\n",
        "\n",
        "# # Load the model\n",
        "# model2.load_weights('DenseNetImagenet.model.keras')"
      ],
      "metadata": {
        "id": "U84IWlpaAeQK"
      },
      "execution_count": null,
      "outputs": []
    },
    {
      "cell_type": "markdown",
      "source": [
        "# Valid"
      ],
      "metadata": {
        "id": "pm-7f1gpA0gE"
      }
    },
    {
      "cell_type": "code",
      "source": [
        "loss, accuracy, auc, precision, recall = model.evaluate(test_flow)"
      ],
      "metadata": {
        "id": "YxpN5II2Q0X5"
      },
      "execution_count": null,
      "outputs": []
    },
    {
      "cell_type": "code",
      "source": [
        "!cp -r /content/DenseNetImagenetFourier.model.keras /content/drive/MyDrive/UPC/TER"
      ],
      "metadata": {
        "id": "v77czOmmViij"
      },
      "execution_count": null,
      "outputs": []
    }
  ]
}