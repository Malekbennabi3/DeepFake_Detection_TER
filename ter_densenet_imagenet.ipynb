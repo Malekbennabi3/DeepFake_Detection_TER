{
  "metadata": {
    "accelerator": "GPU",
    "colab": {
      "gpuType": "T4",
      "provenance": []
    },
    "kernelspec": {
      "name": "python3",
      "display_name": "Python 3"
    },
    "language_info": {
      "name": "python",
      "version": "3.10.13",
      "mimetype": "text/x-python",
      "codemirror_mode": {
        "name": "ipython",
        "version": 3
      },
      "pygments_lexer": "ipython3",
      "nbconvert_exporter": "python",
      "file_extension": ".py"
    },
    "kaggle": {
      "accelerator": "gpu",
      "dataSources": [],
      "dockerImageVersionId": 30699,
      "isInternetEnabled": true,
      "language": "python",
      "sourceType": "notebook",
      "isGpuEnabled": true
    }
  },
  "nbformat_minor": 0,
  "nbformat": 4,
  "cells": [
    {
      "cell_type": "code",
      "source": [
        "!wget https://huggingface.co/datasets/OpenRL/DeepFakeFace/resolve/main/inpainting.zip\n",
        "!wget https://huggingface.co/datasets/OpenRL/DeepFakeFace/resolve/main/wiki.zip"
      ],
      "metadata": {
        "colab": {
          "base_uri": "https://localhost:8080/"
        },
        "id": "fGoTrkdr92AZ",
        "outputId": "a4c72c63-f1e9-4158-f1cd-59fed040af75",
        "execution": {
          "iopub.status.busy": "2024-04-23T16:53:01.964795Z",
          "iopub.execute_input": "2024-04-23T16:53:01.965367Z",
          "iopub.status.idle": "2024-04-23T16:53:14.428791Z",
          "shell.execute_reply.started": "2024-04-23T16:53:01.965334Z",
          "shell.execute_reply": "2024-04-23T16:53:14.427532Z"
        },
        "trusted": true
      },
      "execution_count": 1,
      "outputs": [
        {
          "output_type": "stream",
          "name": "stdout",
          "text": [
            "--2024-05-06 17:58:48--  https://huggingface.co/datasets/OpenRL/DeepFakeFace/resolve/main/inpainting.zip\n",
            "Resolving huggingface.co (huggingface.co)... 13.33.30.49, 13.33.30.23, 13.33.30.76, ...\n",
            "Connecting to huggingface.co (huggingface.co)|13.33.30.49|:443... connected.\n",
            "HTTP request sent, awaiting response... 302 Found\n",
            "Location: https://cdn-lfs.huggingface.co/repos/43/54/4354080778713efff252f32d0ea8cda241f8af84fe016fdd4e0d57db34b94861/795b751f0967b2d940fbd9825e05c541666ec6f8c634acc7640044542897b7b2?response-content-disposition=attachment%3B+filename*%3DUTF-8%27%27inpainting.zip%3B+filename%3D%22inpainting.zip%22%3B&response-content-type=application%2Fzip&Expires=1715277528&Policy=eyJTdGF0ZW1lbnQiOlt7IkNvbmRpdGlvbiI6eyJEYXRlTGVzc1RoYW4iOnsiQVdTOkVwb2NoVGltZSI6MTcxNTI3NzUyOH19LCJSZXNvdXJjZSI6Imh0dHBzOi8vY2RuLWxmcy5odWdnaW5nZmFjZS5jby9yZXBvcy80My81NC80MzU0MDgwNzc4NzEzZWZmZjI1MmYzMmQwZWE4Y2RhMjQxZjhhZjg0ZmUwMTZmZGQ0ZTBkNTdkYjM0Yjk0ODYxLzc5NWI3NTFmMDk2N2IyZDk0MGZiZDk4MjVlMDVjNTQxNjY2ZWM2ZjhjNjM0YWNjNzY0MDA0NDU0Mjg5N2I3YjI%7EcmVzcG9uc2UtY29udGVudC1kaXNwb3NpdGlvbj0qJnJlc3BvbnNlLWNvbnRlbnQtdHlwZT0qIn1dfQ__&Signature=jml4YUkLKI99fq%7Eo2M02azS-r%7EUWkuTtDGcc2SUD%7E%7ETvhQ61viQ2uKa6X7KdObKmjg77YBUGAugdBuq4p8Z3hYlM9fys-VEPkIUDVGBYBQQ%7EXC53pWevQSsQlLkPgPJm2N-eXavRmAjzUy5H0cy7CaddlW%7EsshKYoSXmSvVVofajMRYRloYn8kVuXKeKlKq4ef2IMZYReDLx%7EUu0s-foS6mI-BWhJNrCnrIg0JayXzU7G1AhCAEeFM56j5tCdkdc2tpKudsOBz-GGRQQvW5I2dVFrrWB3yED46BcsMAo5-XGuQqP62RMEaGqJbnbnDdrOOKkQWM%7EIaNZjJsObyackQ__&Key-Pair-Id=KVTP0A1DKRTAX [following]\n",
            "--2024-05-06 17:58:48--  https://cdn-lfs.huggingface.co/repos/43/54/4354080778713efff252f32d0ea8cda241f8af84fe016fdd4e0d57db34b94861/795b751f0967b2d940fbd9825e05c541666ec6f8c634acc7640044542897b7b2?response-content-disposition=attachment%3B+filename*%3DUTF-8%27%27inpainting.zip%3B+filename%3D%22inpainting.zip%22%3B&response-content-type=application%2Fzip&Expires=1715277528&Policy=eyJTdGF0ZW1lbnQiOlt7IkNvbmRpdGlvbiI6eyJEYXRlTGVzc1RoYW4iOnsiQVdTOkVwb2NoVGltZSI6MTcxNTI3NzUyOH19LCJSZXNvdXJjZSI6Imh0dHBzOi8vY2RuLWxmcy5odWdnaW5nZmFjZS5jby9yZXBvcy80My81NC80MzU0MDgwNzc4NzEzZWZmZjI1MmYzMmQwZWE4Y2RhMjQxZjhhZjg0ZmUwMTZmZGQ0ZTBkNTdkYjM0Yjk0ODYxLzc5NWI3NTFmMDk2N2IyZDk0MGZiZDk4MjVlMDVjNTQxNjY2ZWM2ZjhjNjM0YWNjNzY0MDA0NDU0Mjg5N2I3YjI%7EcmVzcG9uc2UtY29udGVudC1kaXNwb3NpdGlvbj0qJnJlc3BvbnNlLWNvbnRlbnQtdHlwZT0qIn1dfQ__&Signature=jml4YUkLKI99fq%7Eo2M02azS-r%7EUWkuTtDGcc2SUD%7E%7ETvhQ61viQ2uKa6X7KdObKmjg77YBUGAugdBuq4p8Z3hYlM9fys-VEPkIUDVGBYBQQ%7EXC53pWevQSsQlLkPgPJm2N-eXavRmAjzUy5H0cy7CaddlW%7EsshKYoSXmSvVVofajMRYRloYn8kVuXKeKlKq4ef2IMZYReDLx%7EUu0s-foS6mI-BWhJNrCnrIg0JayXzU7G1AhCAEeFM56j5tCdkdc2tpKudsOBz-GGRQQvW5I2dVFrrWB3yED46BcsMAo5-XGuQqP62RMEaGqJbnbnDdrOOKkQWM%7EIaNZjJsObyackQ__&Key-Pair-Id=KVTP0A1DKRTAX\n",
            "Resolving cdn-lfs.huggingface.co (cdn-lfs.huggingface.co)... 18.155.68.128, 18.155.68.94, 18.155.68.73, ...\n",
            "Connecting to cdn-lfs.huggingface.co (cdn-lfs.huggingface.co)|18.155.68.128|:443... connected.\n",
            "HTTP request sent, awaiting response... 200 OK\n",
            "Length: 1082027665 (1.0G) [application/zip]\n",
            "Saving to: ‘inpainting.zip’\n",
            "\n",
            "inpainting.zip      100%[===================>]   1.01G   216MB/s    in 5.2s    \n",
            "\n",
            "2024-05-06 17:58:54 (198 MB/s) - ‘inpainting.zip’ saved [1082027665/1082027665]\n",
            "\n",
            "--2024-05-06 17:58:54--  https://huggingface.co/datasets/OpenRL/DeepFakeFace/resolve/main/wiki.zip\n",
            "Resolving huggingface.co (huggingface.co)... 13.33.30.23, 13.33.30.49, 13.33.30.114, ...\n",
            "Connecting to huggingface.co (huggingface.co)|13.33.30.23|:443... connected.\n",
            "HTTP request sent, awaiting response... 302 Found\n",
            "Location: https://cdn-lfs.huggingface.co/repos/43/54/4354080778713efff252f32d0ea8cda241f8af84fe016fdd4e0d57db34b94861/e83b55d6692d54e5aad38427531fa831bf30d1051ccc4267d4db90f03aaa7136?response-content-disposition=attachment%3B+filename*%3DUTF-8%27%27wiki.zip%3B+filename%3D%22wiki.zip%22%3B&response-content-type=application%2Fzip&Expires=1715277534&Policy=eyJTdGF0ZW1lbnQiOlt7IkNvbmRpdGlvbiI6eyJEYXRlTGVzc1RoYW4iOnsiQVdTOkVwb2NoVGltZSI6MTcxNTI3NzUzNH19LCJSZXNvdXJjZSI6Imh0dHBzOi8vY2RuLWxmcy5odWdnaW5nZmFjZS5jby9yZXBvcy80My81NC80MzU0MDgwNzc4NzEzZWZmZjI1MmYzMmQwZWE4Y2RhMjQxZjhhZjg0ZmUwMTZmZGQ0ZTBkNTdkYjM0Yjk0ODYxL2U4M2I1NWQ2NjkyZDU0ZTVhYWQzODQyNzUzMWZhODMxYmYzMGQxMDUxY2NjNDI2N2Q0ZGI5MGYwM2FhYTcxMzY%7EcmVzcG9uc2UtY29udGVudC1kaXNwb3NpdGlvbj0qJnJlc3BvbnNlLWNvbnRlbnQtdHlwZT0qIn1dfQ__&Signature=DexszoX3iuoU4vr7oYiMRJOXeTChmg7YExI4D5bCZ060VCuc3jWIx5LfSrsbGKGGOF3rgkVUOS1Dj5m5t6h2jZqUaK1G%7E5y-VMiDv5EVH28WZrYVVkJVrVYRI9pUn5tKeyJ4bNkQ1RP2FI5ULSqRGkIZ3P%7EXTeCm3G4fh95H%7EyFzb4RtL8qSSnxrbrsBCL79bIqKpE0orQgmPVy9ZSYmaz6xBfquUS-kDmq7RGqijrHRmH3rRNxjeRUQdT1tuZVP7XO%7E7EqzpzHemCh-Vs07QxeNqDhej6an0-RZCjUFOzRfn6NE1TEv2FkEGSBQxrzyZVufLW4gogANpthENqCyCw__&Key-Pair-Id=KVTP0A1DKRTAX [following]\n",
            "--2024-05-06 17:58:55--  https://cdn-lfs.huggingface.co/repos/43/54/4354080778713efff252f32d0ea8cda241f8af84fe016fdd4e0d57db34b94861/e83b55d6692d54e5aad38427531fa831bf30d1051ccc4267d4db90f03aaa7136?response-content-disposition=attachment%3B+filename*%3DUTF-8%27%27wiki.zip%3B+filename%3D%22wiki.zip%22%3B&response-content-type=application%2Fzip&Expires=1715277534&Policy=eyJTdGF0ZW1lbnQiOlt7IkNvbmRpdGlvbiI6eyJEYXRlTGVzc1RoYW4iOnsiQVdTOkVwb2NoVGltZSI6MTcxNTI3NzUzNH19LCJSZXNvdXJjZSI6Imh0dHBzOi8vY2RuLWxmcy5odWdnaW5nZmFjZS5jby9yZXBvcy80My81NC80MzU0MDgwNzc4NzEzZWZmZjI1MmYzMmQwZWE4Y2RhMjQxZjhhZjg0ZmUwMTZmZGQ0ZTBkNTdkYjM0Yjk0ODYxL2U4M2I1NWQ2NjkyZDU0ZTVhYWQzODQyNzUzMWZhODMxYmYzMGQxMDUxY2NjNDI2N2Q0ZGI5MGYwM2FhYTcxMzY%7EcmVzcG9uc2UtY29udGVudC1kaXNwb3NpdGlvbj0qJnJlc3BvbnNlLWNvbnRlbnQtdHlwZT0qIn1dfQ__&Signature=DexszoX3iuoU4vr7oYiMRJOXeTChmg7YExI4D5bCZ060VCuc3jWIx5LfSrsbGKGGOF3rgkVUOS1Dj5m5t6h2jZqUaK1G%7E5y-VMiDv5EVH28WZrYVVkJVrVYRI9pUn5tKeyJ4bNkQ1RP2FI5ULSqRGkIZ3P%7EXTeCm3G4fh95H%7EyFzb4RtL8qSSnxrbrsBCL79bIqKpE0orQgmPVy9ZSYmaz6xBfquUS-kDmq7RGqijrHRmH3rRNxjeRUQdT1tuZVP7XO%7E7EqzpzHemCh-Vs07QxeNqDhej6an0-RZCjUFOzRfn6NE1TEv2FkEGSBQxrzyZVufLW4gogANpthENqCyCw__&Key-Pair-Id=KVTP0A1DKRTAX\n",
            "Resolving cdn-lfs.huggingface.co (cdn-lfs.huggingface.co)... 18.155.68.128, 18.155.68.94, 18.155.68.73, ...\n",
            "Connecting to cdn-lfs.huggingface.co (cdn-lfs.huggingface.co)|18.155.68.128|:443... connected.\n",
            "HTTP request sent, awaiting response... 200 OK\n",
            "Length: 1766572515 (1.6G) [application/zip]\n",
            "Saving to: ‘wiki.zip’\n",
            "\n",
            "wiki.zip            100%[===================>]   1.64G   131MB/s    in 15s     \n",
            "\n",
            "2024-05-06 17:59:10 (110 MB/s) - ‘wiki.zip’ saved [1766572515/1766572515]\n",
            "\n"
          ]
        }
      ]
    },
    {
      "cell_type": "code",
      "source": [
        "from google.colab import drive\n",
        "drive.mount('/content/drive')"
      ],
      "metadata": {
        "colab": {
          "base_uri": "https://localhost:8080/"
        },
        "id": "bx-oQM5MVmML",
        "outputId": "3a947470-92c7-4faf-d5cd-727bc1b74fe0"
      },
      "execution_count": 63,
      "outputs": [
        {
          "output_type": "stream",
          "name": "stdout",
          "text": [
            "Mounted at /content/drive\n"
          ]
        }
      ]
    },
    {
      "cell_type": "code",
      "source": [
        "!unzip -q inpainting.zip\n",
        "!unzip -q wiki.zip\n",
        "\n",
        "\n",
        "!rm -r inpainting.zip\n",
        "!rm -r wiki.zip"
      ],
      "metadata": {
        "id": "ytSg3-FW95a5",
        "execution": {
          "iopub.status.busy": "2024-04-23T16:53:14.432799Z",
          "iopub.execute_input": "2024-04-23T16:53:14.433126Z",
          "iopub.status.idle": "2024-04-23T16:53:42.421073Z",
          "shell.execute_reply.started": "2024-04-23T16:53:14.433094Z",
          "shell.execute_reply": "2024-04-23T16:53:42.419729Z"
        },
        "trusted": true
      },
      "execution_count": 2,
      "outputs": []
    },
    {
      "cell_type": "code",
      "source": [
        "import os\n",
        "import shutil\n",
        "\n",
        "def copy_images(source_folder, destination_folder):\n",
        "    # Create the destination folder if it doesn't exist\n",
        "    if not os.path.exists(destination_folder):\n",
        "        os.makedirs(destination_folder)\n",
        "\n",
        "    # Walk through each subfolder in the source folder\n",
        "    for root, dirs, files in os.walk(source_folder):\n",
        "        for file in files:\n",
        "            # Check if the file is an image\n",
        "            if file.lower().endswith(('.jpg', '.jpeg', '.png', '.gif')):\n",
        "                # Get the full path of the image\n",
        "                source_path = os.path.join(root, file)\n",
        "                # Copy the image to the destination folder\n",
        "                shutil.copy(source_path, destination_folder)"
      ],
      "metadata": {
        "id": "YWT3XPHSd0J2",
        "execution": {
          "iopub.status.busy": "2024-04-23T16:53:42.422861Z",
          "iopub.execute_input": "2024-04-23T16:53:42.423221Z",
          "iopub.status.idle": "2024-04-23T16:53:42.430400Z",
          "shell.execute_reply.started": "2024-04-23T16:53:42.423185Z",
          "shell.execute_reply": "2024-04-23T16:53:42.429510Z"
        },
        "trusted": true
      },
      "execution_count": 3,
      "outputs": []
    },
    {
      "cell_type": "code",
      "source": [
        "!rm -r real\n",
        "!rm -r fake\n",
        "!rm -r real_vs_fake"
      ],
      "metadata": {
        "execution": {
          "iopub.status.busy": "2024-04-23T16:53:42.431793Z",
          "iopub.execute_input": "2024-04-23T16:53:42.432445Z",
          "iopub.status.idle": "2024-04-23T16:53:45.369646Z",
          "shell.execute_reply.started": "2024-04-23T16:53:42.432404Z",
          "shell.execute_reply": "2024-04-23T16:53:45.368389Z"
        },
        "trusted": true,
        "colab": {
          "base_uri": "https://localhost:8080/"
        },
        "id": "F2yn6zmsAeQG",
        "outputId": "e244f89a-30b9-4fb8-e980-7847286b8caa"
      },
      "execution_count": 4,
      "outputs": [
        {
          "output_type": "stream",
          "name": "stdout",
          "text": [
            "rm: cannot remove 'real': No such file or directory\n",
            "rm: cannot remove 'fake': No such file or directory\n",
            "rm: cannot remove 'real_vs_fake': No such file or directory\n"
          ]
        }
      ]
    },
    {
      "cell_type": "code",
      "source": [
        "# Specify the source folder containing subfolders with images\n",
        "destination_folder = 'real'\n",
        "# Specify the destination folder where images will be copied\n",
        "source_folder = 'wiki'\n",
        "\n",
        "# Call the function to copy images\n",
        "copy_images(source_folder, destination_folder)"
      ],
      "metadata": {
        "id": "9SAyKGqpgEE8",
        "execution": {
          "iopub.status.busy": "2024-04-23T16:53:45.371207Z",
          "iopub.execute_input": "2024-04-23T16:53:45.371572Z",
          "iopub.status.idle": "2024-04-23T16:53:49.992676Z",
          "shell.execute_reply.started": "2024-04-23T16:53:45.371538Z",
          "shell.execute_reply": "2024-04-23T16:53:49.991924Z"
        },
        "trusted": true
      },
      "execution_count": 5,
      "outputs": []
    },
    {
      "cell_type": "code",
      "source": [
        "# Specify the source folder containing subfolders with images\n",
        "destination_folder = 'fake'\n",
        "# Specify the destination folder where images will be copied\n",
        "source_folder = 'inpainting'\n",
        "\n",
        "# Call the function to copy images\n",
        "copy_images(source_folder, destination_folder)"
      ],
      "metadata": {
        "id": "87pAn6w4gL80",
        "execution": {
          "iopub.status.busy": "2024-04-23T16:53:49.993711Z",
          "iopub.execute_input": "2024-04-23T16:53:49.993986Z",
          "iopub.status.idle": "2024-04-23T16:53:54.146688Z",
          "shell.execute_reply.started": "2024-04-23T16:53:49.993960Z",
          "shell.execute_reply": "2024-04-23T16:53:54.145659Z"
        },
        "trusted": true
      },
      "execution_count": 6,
      "outputs": []
    },
    {
      "cell_type": "code",
      "source": [
        "!mkdir real_vs_fake"
      ],
      "metadata": {
        "id": "nvdkod0AikXo",
        "execution": {
          "iopub.status.busy": "2024-04-23T16:53:54.150674Z",
          "iopub.execute_input": "2024-04-23T16:53:54.150978Z",
          "iopub.status.idle": "2024-04-23T16:53:55.142243Z",
          "shell.execute_reply.started": "2024-04-23T16:53:54.150950Z",
          "shell.execute_reply": "2024-04-23T16:53:55.141197Z"
        },
        "trusted": true
      },
      "execution_count": 7,
      "outputs": []
    },
    {
      "cell_type": "code",
      "source": [
        "import os\n",
        "import shutil\n",
        "import random\n",
        "\n",
        "# Define paths\n",
        "source_folder = \"real\"\n",
        "destination_folder = \"real_vs_fake\"\n",
        "\n",
        "# Create destination folder if it doesn't exist\n",
        "if not os.path.exists(destination_folder):\n",
        "    os.makedirs(destination_folder)\n",
        "\n",
        "# Create test, train, and valid folders within destination folder\n",
        "folders = ['test', 'train', 'valid']\n",
        "for folder in folders:\n",
        "    os.makedirs(os.path.join(destination_folder, folder, 'real'), exist_ok=True)\n",
        "\n",
        "# List all images in source folder\n",
        "images = os.listdir(source_folder)\n",
        "random.shuffle(images)\n",
        "\n",
        "# Calculate the number of images for each category\n",
        "total_images = len(images)\n",
        "test_count = 5000\n",
        "train_count = int(0.8 * (total_images - test_count))\n",
        "valid_count = total_images - test_count - train_count\n",
        "\n",
        "# Move images to respective folders\n",
        "for folder, count in [('test', test_count), ('train', train_count), ('valid', valid_count)]:\n",
        "    for i in range(count):\n",
        "        image = images.pop()\n",
        "        shutil.copy(os.path.join(source_folder, image), os.path.join(destination_folder, folder, 'real'))\n",
        "\n",
        "# Copy train, valid, and test folders to real_vs_fake\n",
        "# for folder in folders:\n",
        "#     shutil.copytree(os.path.join(destination_folder, folder), os.path.join(destination_folder, 'real_vs_fake', folder))\n"
      ],
      "metadata": {
        "id": "oAlhHhhJgoRy",
        "execution": {
          "iopub.status.busy": "2024-04-23T16:53:55.143760Z",
          "iopub.execute_input": "2024-04-23T16:53:55.144112Z",
          "iopub.status.idle": "2024-04-23T16:53:59.744880Z",
          "shell.execute_reply.started": "2024-04-23T16:53:55.144077Z",
          "shell.execute_reply": "2024-04-23T16:53:59.743550Z"
        },
        "trusted": true
      },
      "execution_count": 8,
      "outputs": []
    },
    {
      "cell_type": "code",
      "source": [
        "import os\n",
        "import shutil\n",
        "import random"
      ],
      "metadata": {
        "execution": {
          "iopub.status.busy": "2024-04-23T16:53:59.746719Z",
          "iopub.execute_input": "2024-04-23T16:53:59.746991Z",
          "iopub.status.idle": "2024-04-23T16:53:59.751119Z",
          "shell.execute_reply.started": "2024-04-23T16:53:59.746967Z",
          "shell.execute_reply": "2024-04-23T16:53:59.750124Z"
        },
        "trusted": true,
        "id": "zXQVL3OMAeQH"
      },
      "execution_count": 9,
      "outputs": []
    },
    {
      "cell_type": "code",
      "source": [
        "# Define paths\n",
        "source_folder = \"fake\"\n",
        "destination_folder = \"real_vs_fake\"\n",
        "\n",
        "# Create destination folder if it doesn't exist\n",
        "if not os.path.exists(destination_folder):\n",
        "    os.makedirs(destination_folder)\n",
        "\n",
        "# Create test, train, and valid folders within destination folder\n",
        "folders = ['test', 'train', 'valid']\n",
        "for folder in folders:\n",
        "    os.makedirs(os.path.join(destination_folder, folder, 'fake'), exist_ok=True)\n",
        "\n",
        "# List all images in source folder\n",
        "images = os.listdir(source_folder)\n",
        "random.shuffle(images)\n",
        "\n",
        "# Calculate the number of images for each category\n",
        "total_images = len(images)\n",
        "test_count = 5000\n",
        "train_count = int(0.8 * (total_images - test_count))\n",
        "valid_count = total_images - test_count - train_count\n",
        "\n",
        "# Move images to respective folders\n",
        "for folder, count in [('test', test_count), ('train', train_count), ('valid', valid_count)]:\n",
        "    for i in range(count):\n",
        "        image = images.pop()\n",
        "        shutil.copy(os.path.join(source_folder, image), os.path.join(destination_folder, folder, 'fake'))\n",
        "\n",
        "# Copy train, valid, and test folders to real_vs_fake\n",
        "# for folder in folders:\n",
        "#     shutil.copytree(os.path.join(destination_folder, folder), os.path.join(destination_folder, 'real_vs_fake', folder))\n"
      ],
      "metadata": {
        "id": "oy3dkHMMijDG",
        "execution": {
          "iopub.status.busy": "2024-04-23T16:53:59.752343Z",
          "iopub.execute_input": "2024-04-23T16:53:59.752897Z",
          "iopub.status.idle": "2024-04-23T16:54:05.304861Z",
          "shell.execute_reply.started": "2024-04-23T16:53:59.752863Z",
          "shell.execute_reply": "2024-04-23T16:54:05.303874Z"
        },
        "trusted": true
      },
      "execution_count": 10,
      "outputs": []
    },
    {
      "cell_type": "markdown",
      "source": [],
      "metadata": {
        "id": "uyZAyhowAeQH"
      }
    },
    {
      "cell_type": "code",
      "source": [
        "# !rm -r /kaggle/working/real_vs_fake\n",
        "# !rm -r /kaggle/working/fake\n",
        "# !rm -r /kaggle/working/real"
      ],
      "metadata": {
        "execution": {
          "iopub.status.busy": "2024-04-23T16:54:05.306059Z",
          "iopub.execute_input": "2024-04-23T16:54:05.306371Z",
          "iopub.status.idle": "2024-04-23T16:54:05.311117Z",
          "shell.execute_reply.started": "2024-04-23T16:54:05.306343Z",
          "shell.execute_reply": "2024-04-23T16:54:05.309855Z"
        },
        "trusted": true,
        "id": "uBjpMy86AeQI"
      },
      "execution_count": 11,
      "outputs": []
    },
    {
      "cell_type": "code",
      "source": [
        "def count_files(folder_path):\n",
        "    # Initialize count\n",
        "    file_count = 0\n",
        "\n",
        "    # Walk through the folder and count files\n",
        "    for _, _, files in os.walk(folder_path):\n",
        "        file_count += len(files)\n",
        "\n",
        "    return file_count"
      ],
      "metadata": {
        "id": "isumAViQgyZo",
        "execution": {
          "iopub.status.busy": "2024-04-23T16:54:05.312727Z",
          "iopub.execute_input": "2024-04-23T16:54:05.313070Z",
          "iopub.status.idle": "2024-04-23T16:54:05.324651Z",
          "shell.execute_reply.started": "2024-04-23T16:54:05.313037Z",
          "shell.execute_reply": "2024-04-23T16:54:05.323699Z"
        },
        "trusted": true
      },
      "execution_count": 12,
      "outputs": []
    },
    {
      "cell_type": "code",
      "source": [
        "# Specify the folder path\n",
        "folders = ['test', 'train', 'valid']\n",
        "folder_path = 'real_vs_fake/'\n",
        "\n",
        "for i in folders:\n",
        "  print(\"Number of files in fake/\"+str(i)+\" :\", count_files(folder_path+i+'/fake'))"
      ],
      "metadata": {
        "colab": {
          "base_uri": "https://localhost:8080/"
        },
        "id": "WIUyoGpcguam",
        "outputId": "5b693c37-6e69-4dba-e5c8-216d2153658e",
        "execution": {
          "iopub.status.busy": "2024-04-23T16:54:05.326287Z",
          "iopub.execute_input": "2024-04-23T16:54:05.326845Z",
          "iopub.status.idle": "2024-04-23T16:54:05.398787Z",
          "shell.execute_reply.started": "2024-04-23T16:54:05.326819Z",
          "shell.execute_reply": "2024-04-23T16:54:05.397626Z"
        },
        "trusted": true
      },
      "execution_count": 13,
      "outputs": [
        {
          "output_type": "stream",
          "name": "stdout",
          "text": [
            "Number of files in fake/test : 5000\n",
            "Number of files in fake/train : 20000\n",
            "Number of files in fake/valid : 5000\n"
          ]
        }
      ]
    },
    {
      "cell_type": "code",
      "source": [
        "# Specify the folder path\n",
        "folders = ['test', 'train', 'valid']\n",
        "folder_path = 'real_vs_fake/'\n",
        "\n",
        "for i in folders:\n",
        "  print(\"Number of files in real/\"+str(i)+\" :\", count_files(folder_path+i+'/real'))"
      ],
      "metadata": {
        "colab": {
          "base_uri": "https://localhost:8080/"
        },
        "id": "3oU59HAYgvfk",
        "outputId": "fc804a00-aeca-4c9b-875d-0dc351b8b23d",
        "execution": {
          "iopub.status.busy": "2024-04-23T16:54:05.400092Z",
          "iopub.execute_input": "2024-04-23T16:54:05.402050Z",
          "iopub.status.idle": "2024-04-23T16:54:05.448247Z",
          "shell.execute_reply.started": "2024-04-23T16:54:05.402013Z",
          "shell.execute_reply": "2024-04-23T16:54:05.447155Z"
        },
        "trusted": true
      },
      "execution_count": 14,
      "outputs": [
        {
          "output_type": "stream",
          "name": "stdout",
          "text": [
            "Number of files in real/test : 5000\n",
            "Number of files in real/train : 20000\n",
            "Number of files in real/valid : 5000\n"
          ]
        }
      ]
    },
    {
      "cell_type": "code",
      "source": [
        "import cv2\n",
        "import numpy as np\n",
        "from tensorflow.keras import layers\n",
        "from tensorflow.keras.applications import DenseNet121\n",
        "from tensorflow.keras.callbacks import Callback, ModelCheckpoint\n",
        "from tensorflow.keras.preprocessing.image import ImageDataGenerator\n",
        "from tensorflow.keras.models import Sequential\n",
        "from tensorflow.keras.optimizers import Adam\n",
        "import matplotlib.pyplot as plt\n",
        "import pandas as pd\n",
        "from sklearn.model_selection import train_test_split\n",
        "from sklearn import metrics\n",
        "import tensorflow as tf\n",
        "from tqdm import tqdm"
      ],
      "metadata": {
        "id": "yoI0F3p--Ajt",
        "execution": {
          "iopub.status.busy": "2024-04-23T16:54:05.452847Z",
          "iopub.execute_input": "2024-04-23T16:54:05.453355Z",
          "iopub.status.idle": "2024-04-23T16:54:19.276062Z",
          "shell.execute_reply.started": "2024-04-23T16:54:05.453309Z",
          "shell.execute_reply": "2024-04-23T16:54:19.275231Z"
        },
        "trusted": true
      },
      "execution_count": 15,
      "outputs": []
    },
    {
      "cell_type": "code",
      "source": [
        "import keras"
      ],
      "metadata": {
        "execution": {
          "iopub.status.busy": "2024-04-23T16:54:19.277163Z",
          "iopub.execute_input": "2024-04-23T16:54:19.277833Z",
          "iopub.status.idle": "2024-04-23T16:54:19.282992Z",
          "shell.execute_reply.started": "2024-04-23T16:54:19.277801Z",
          "shell.execute_reply": "2024-04-23T16:54:19.282102Z"
        },
        "trusted": true,
        "id": "pAfGqiNeAeQI"
      },
      "execution_count": 16,
      "outputs": []
    },
    {
      "cell_type": "code",
      "source": [
        "base_path = 'real_vs_fake/'\n",
        "image_gen = ImageDataGenerator(rescale=1./255)\n",
        "\n",
        "train_flow = image_gen.flow_from_directory(\n",
        "    base_path + 'train/',\n",
        "    target_size=(224, 224),\n",
        "    batch_size=64,\n",
        "    class_mode='binary'\n",
        ")"
      ],
      "metadata": {
        "colab": {
          "base_uri": "https://localhost:8080/"
        },
        "id": "yGkuJqoa-jcn",
        "outputId": "4840619e-2ee6-40c0-aa31-f003196e019f",
        "execution": {
          "iopub.status.busy": "2024-04-23T16:54:20.805257Z",
          "iopub.execute_input": "2024-04-23T16:54:20.805570Z",
          "iopub.status.idle": "2024-04-23T16:54:26.329284Z",
          "shell.execute_reply.started": "2024-04-23T16:54:20.805543Z",
          "shell.execute_reply": "2024-04-23T16:54:26.328285Z"
        },
        "trusted": true
      },
      "execution_count": 17,
      "outputs": [
        {
          "output_type": "stream",
          "name": "stdout",
          "text": [
            "Found 40000 images belonging to 2 classes.\n"
          ]
        }
      ]
    },
    {
      "cell_type": "code",
      "source": [
        "image_gen1 = ImageDataGenerator(rescale=1./255)\n",
        "\n",
        "valid_flow = image_gen1.flow_from_directory(\n",
        "    base_path + 'valid/',\n",
        "    target_size=(224, 224),\n",
        "    batch_size=64,\n",
        "    class_mode='binary'\n",
        ")"
      ],
      "metadata": {
        "colab": {
          "base_uri": "https://localhost:8080/"
        },
        "id": "fEs3NcBb-to7",
        "outputId": "878b46aa-e12d-4e05-dc3f-9eb85e2b5a9c",
        "execution": {
          "iopub.status.busy": "2024-04-23T16:54:26.330620Z",
          "iopub.execute_input": "2024-04-23T16:54:26.331354Z",
          "iopub.status.idle": "2024-04-23T16:54:26.598751Z",
          "shell.execute_reply.started": "2024-04-23T16:54:26.331316Z",
          "shell.execute_reply": "2024-04-23T16:54:26.597947Z"
        },
        "trusted": true
      },
      "execution_count": 18,
      "outputs": [
        {
          "output_type": "stream",
          "name": "stdout",
          "text": [
            "Found 10000 images belonging to 2 classes.\n"
          ]
        }
      ]
    },
    {
      "cell_type": "code",
      "source": [
        "image_gen1 = ImageDataGenerator(rescale=1./255.)\n",
        "test_flow = image_gen.flow_from_directory(\n",
        "    base_path + 'test/',\n",
        "    target_size=(224, 224),\n",
        "    batch_size=64,\n",
        "    class_mode='binary'\n",
        ")"
      ],
      "metadata": {
        "execution": {
          "iopub.status.busy": "2024-04-23T16:54:26.599847Z",
          "iopub.execute_input": "2024-04-23T16:54:26.600141Z",
          "iopub.status.idle": "2024-04-23T16:54:26.870601Z",
          "shell.execute_reply.started": "2024-04-23T16:54:26.600114Z",
          "shell.execute_reply": "2024-04-23T16:54:26.869665Z"
        },
        "trusted": true,
        "colab": {
          "base_uri": "https://localhost:8080/"
        },
        "id": "hyvDWe78AeQJ",
        "outputId": "9759df67-b42a-4899-c199-8d24f6c5a943"
      },
      "execution_count": 19,
      "outputs": [
        {
          "output_type": "stream",
          "name": "stdout",
          "text": [
            "Found 10000 images belonging to 2 classes.\n"
          ]
        }
      ]
    },
    {
      "cell_type": "code",
      "source": [
        "strategy = tf.distribute.MirroredStrategy()\n",
        "print('Number of devices: {}'.format(strategy.num_replicas_in_sync))"
      ],
      "metadata": {
        "execution": {
          "iopub.status.busy": "2024-04-23T16:54:26.871924Z",
          "iopub.execute_input": "2024-04-23T16:54:26.872670Z",
          "iopub.status.idle": "2024-04-23T16:54:27.489551Z",
          "shell.execute_reply.started": "2024-04-23T16:54:26.872632Z",
          "shell.execute_reply": "2024-04-23T16:54:27.488642Z"
        },
        "trusted": true,
        "colab": {
          "base_uri": "https://localhost:8080/"
        },
        "id": "XplMyFO5AeQJ",
        "outputId": "717e0e4d-fa58-4fc8-8582-7af340573200"
      },
      "execution_count": 20,
      "outputs": [
        {
          "output_type": "stream",
          "name": "stdout",
          "text": [
            "Number of devices: 1\n"
          ]
        }
      ]
    },
    {
      "cell_type": "code",
      "source": [
        "def build_model(pretrained, learning_rate=0.0001):\n",
        "    model = Sequential([\n",
        "        pretrained,\n",
        "        layers.GlobalAveragePooling2D(),\n",
        "        layers.Dense(1, activation='sigmoid')\n",
        "    ])\n",
        "\n",
        "    model.compile(\n",
        "        loss='binary_crossentropy',\n",
        "        optimizer=Adam(learning_rate=learning_rate),\n",
        "        metrics=['accuracy', keras.metrics.AUC(), keras.metrics.Precision(), keras.metrics.Recall()]\n",
        "    )\n",
        "\n",
        "    return model"
      ],
      "metadata": {
        "id": "g73ZLa6g-YnK",
        "execution": {
          "iopub.status.busy": "2024-04-23T16:54:19.287678Z",
          "iopub.execute_input": "2024-04-23T16:54:19.288554Z",
          "iopub.status.idle": "2024-04-23T16:54:20.804217Z",
          "shell.execute_reply.started": "2024-04-23T16:54:19.288517Z",
          "shell.execute_reply": "2024-04-23T16:54:20.803133Z"
        },
        "trusted": true
      },
      "execution_count": 54,
      "outputs": []
    },
    {
      "cell_type": "code",
      "source": [
        "densenet = DenseNet121(\n",
        "    weights=\"imagenet\",\n",
        "    include_top=False,\n",
        "    input_shape=(224,224,3)\n",
        ")\n",
        "model = build_model(densenet)\n",
        "model.summary()"
      ],
      "metadata": {
        "colab": {
          "base_uri": "https://localhost:8080/"
        },
        "id": "le_GVn1M-vND",
        "outputId": "a45cb337-dc15-464a-d594-6effd680096c",
        "execution": {
          "iopub.status.busy": "2024-04-23T16:54:27.490975Z",
          "iopub.execute_input": "2024-04-23T16:54:27.491725Z",
          "iopub.status.idle": "2024-04-23T16:54:30.437842Z",
          "shell.execute_reply.started": "2024-04-23T16:54:27.491695Z",
          "shell.execute_reply": "2024-04-23T16:54:30.436914Z"
        },
        "trusted": true
      },
      "execution_count": 55,
      "outputs": [
        {
          "output_type": "stream",
          "name": "stdout",
          "text": [
            "Model: \"sequential_2\"\n",
            "_________________________________________________________________\n",
            " Layer (type)                Output Shape              Param #   \n",
            "=================================================================\n",
            " densenet121 (Functional)    (None, 7, 7, 1024)        7037504   \n",
            "                                                                 \n",
            " global_average_pooling2d_2  (None, 1024)              0         \n",
            "  (GlobalAveragePooling2D)                                       \n",
            "                                                                 \n",
            " dense_2 (Dense)             (None, 1)                 1025      \n",
            "                                                                 \n",
            "=================================================================\n",
            "Total params: 7038529 (26.85 MB)\n",
            "Trainable params: 6954881 (26.53 MB)\n",
            "Non-trainable params: 83648 (326.75 KB)\n",
            "_________________________________________________________________\n"
          ]
        }
      ]
    },
    {
      "cell_type": "code",
      "source": [
        "from keras.callbacks import EarlyStopping, ModelCheckpoint\n",
        "\n",
        "early_stopping = EarlyStopping(monitor='val_loss', patience=5)  # Stop training if no improvement after 3 epochs\n",
        "checkpoint = ModelCheckpoint('DenseNetImagenet.model.keras', monitor='val_loss', save_best_only=True)  # Save the best model"
      ],
      "metadata": {
        "id": "9sN7fm9x_aRA",
        "execution": {
          "iopub.status.busy": "2024-04-23T16:54:30.438896Z",
          "iopub.execute_input": "2024-04-23T16:54:30.439149Z",
          "iopub.status.idle": "2024-04-23T16:54:30.443933Z",
          "shell.execute_reply.started": "2024-04-23T16:54:30.439125Z",
          "shell.execute_reply": "2024-04-23T16:54:30.443076Z"
        },
        "trusted": true
      },
      "execution_count": 56,
      "outputs": []
    },
    {
      "cell_type": "code",
      "source": [
        "# !rm /kaggle/working/DenseNetNoW.keras"
      ],
      "metadata": {
        "execution": {
          "iopub.status.busy": "2024-04-23T16:54:30.444958Z",
          "iopub.execute_input": "2024-04-23T16:54:30.445207Z",
          "iopub.status.idle": "2024-04-23T16:54:30.459822Z",
          "shell.execute_reply.started": "2024-04-23T16:54:30.445184Z",
          "shell.execute_reply": "2024-04-23T16:54:30.458881Z"
        },
        "trusted": true,
        "id": "2zDoEV2LAeQJ"
      },
      "execution_count": 24,
      "outputs": []
    },
    {
      "cell_type": "code",
      "source": [
        "history = model.fit(\n",
        "    train_flow,\n",
        "    epochs = 3,\n",
        "    validation_data =valid_flow,\n",
        "    callbacks=[checkpoint]\n",
        ")"
      ],
      "metadata": {
        "colab": {
          "base_uri": "https://localhost:8080/"
        },
        "id": "ulDvC1XO-wdH",
        "outputId": "da88915b-7ec0-44a0-d12e-c8cd83151f32",
        "execution": {
          "iopub.status.busy": "2024-04-23T16:54:30.461213Z",
          "iopub.execute_input": "2024-04-23T16:54:30.461573Z",
          "iopub.status.idle": "2024-04-23T17:17:46.802078Z",
          "shell.execute_reply.started": "2024-04-23T16:54:30.461543Z",
          "shell.execute_reply": "2024-04-23T17:17:46.801283Z"
        },
        "trusted": true
      },
      "execution_count": 57,
      "outputs": [
        {
          "output_type": "stream",
          "name": "stdout",
          "text": [
            "Epoch 1/3\n",
            "625/625 [==============================] - 602s 799ms/step - loss: 0.2033 - accuracy: 0.9108 - auc: 0.9746 - precision: 0.9177 - recall: 0.9025 - val_loss: 0.5374 - val_accuracy: 0.8229 - val_auc: 0.9744 - val_precision: 0.9969 - val_recall: 0.6478\n",
            "Epoch 2/3\n",
            "625/625 [==============================] - 532s 851ms/step - loss: 0.0578 - accuracy: 0.9784 - auc: 0.9976 - precision: 0.9791 - recall: 0.9776 - val_loss: 0.1308 - val_accuracy: 0.9558 - val_auc: 0.9911 - val_precision: 0.9812 - val_recall: 0.9294\n",
            "Epoch 3/3\n",
            "625/625 [==============================] - 495s 791ms/step - loss: 0.0333 - accuracy: 0.9875 - auc: 0.9992 - precision: 0.9886 - recall: 0.9863 - val_loss: 0.1185 - val_accuracy: 0.9633 - val_auc: 0.9917 - val_precision: 0.9492 - val_recall: 0.9790\n"
          ]
        }
      ]
    },
    {
      "cell_type": "code",
      "source": [
        "import pickle\n",
        "with open('trainHistoryDenseNetNoW.pkl', 'wb') as file_pi:\n",
        "    pickle.dump(history.history, file_pi)"
      ],
      "metadata": {
        "id": "XjPE08fCbHRR",
        "execution": {
          "iopub.status.busy": "2024-04-23T17:27:52.156861Z",
          "iopub.execute_input": "2024-04-23T17:27:52.157232Z",
          "iopub.status.idle": "2024-04-23T17:27:52.162569Z",
          "shell.execute_reply.started": "2024-04-23T17:27:52.157200Z",
          "shell.execute_reply": "2024-04-23T17:27:52.161645Z"
        },
        "trusted": true
      },
      "execution_count": 58,
      "outputs": []
    },
    {
      "cell_type": "code",
      "source": [
        "import seaborn as sns\n",
        "from sklearn.metrics import confusion_matrix, roc_auc_score, f1_score, mean_absolute_error, mean_squared_error, accuracy_score\n",
        "\n",
        "# Accuracy and loss history\n",
        "plt.figure(figsize=(12, 6))\n",
        "\n",
        "# Plot training & validation accuracy values\n",
        "plt.subplot(1, 2, 1)\n",
        "plt.plot(history.history['accuracy'])\n",
        "plt.plot(history.history['val_accuracy'])\n",
        "plt.title('Model accuracy')\n",
        "plt.ylabel('Accuracy')\n",
        "plt.xlabel('Epoch')\n",
        "plt.legend(['Train', 'Validation'], loc='upper left')\n",
        "\n",
        "# Plot training & validation loss values\n",
        "plt.subplot(1, 2, 2)\n",
        "plt.plot(history.history['loss'])\n",
        "plt.plot(history.history['val_loss'])\n",
        "plt.title('Model loss')\n",
        "plt.ylabel('Loss')\n",
        "plt.xlabel('Epoch')\n",
        "plt.legend(['Train', 'Validation'], loc='upper left')\n",
        "plt.show()"
      ],
      "metadata": {
        "id": "_OucIqlKCoW-",
        "execution": {
          "iopub.status.busy": "2024-04-23T17:17:46.810005Z",
          "iopub.execute_input": "2024-04-23T17:17:46.810617Z",
          "iopub.status.idle": "2024-04-23T17:17:47.586589Z",
          "shell.execute_reply.started": "2024-04-23T17:17:46.810583Z",
          "shell.execute_reply": "2024-04-23T17:17:47.585592Z"
        },
        "trusted": true,
        "colab": {
          "base_uri": "https://localhost:8080/",
          "height": 564
        },
        "outputId": "57e70fca-07ed-4206-96a1-d26afe2894bf"
      },
      "execution_count": 59,
      "outputs": [
        {
          "output_type": "display_data",
          "data": {
            "text/plain": [
              "<Figure size 1200x600 with 2 Axes>"
            ],
            "image/png": "[encoded data removed]"
          },
          "metadata": {}
        }
      ]
    },
    {
      "cell_type": "code",
      "source": [
        "# from tensorflow.keras.models import load_model\n",
        "# model2 = build_model(densenet)\n",
        "# model2.compile()\n",
        "# # Load the model\n",
        "# model2.load_weights('/kaggle/working/DenseNetNoW.weights.h5')"
      ],
      "metadata": {
        "execution": {
          "iopub.status.busy": "2024-04-23T17:17:47.587760Z",
          "iopub.execute_input": "2024-04-23T17:17:47.588050Z",
          "iopub.status.idle": "2024-04-23T17:17:47.592505Z",
          "shell.execute_reply.started": "2024-04-23T17:17:47.588024Z",
          "shell.execute_reply": "2024-04-23T17:17:47.591520Z"
        },
        "trusted": true,
        "id": "0oRGeHT3AeQK"
      },
      "execution_count": 28,
      "outputs": []
    },
    {
      "cell_type": "code",
      "source": [
        "# from tensorflow.keras.models import load_model\n",
        "\n",
        "\n",
        "# model2 = build_model(densenet)\n",
        "\n",
        "# # Load the model\n",
        "# model2.load_weights('DenseNetImagenet.model.keras')"
      ],
      "metadata": {
        "id": "U84IWlpaAeQK"
      },
      "execution_count": 29,
      "outputs": []
    },
    {
      "cell_type": "markdown",
      "source": [
        "# Valid"
      ],
      "metadata": {
        "id": "pm-7f1gpA0gE"
      }
    },
    {
      "cell_type": "code",
      "source": [
        "loss, accuracy, auc, precision, recall = model.evaluate(test_flow)"
      ],
      "metadata": {
        "colab": {
          "base_uri": "https://localhost:8080/"
        },
        "id": "YxpN5II2Q0X5",
        "outputId": "ede5dc7b-fb2b-4037-fd2b-d1f59dc94983"
      },
      "execution_count": 62,
      "outputs": [
        {
          "output_type": "stream",
          "name": "stdout",
          "text": [
            " 53/157 [=========>....................] - ETA: 51s - loss: 0.1036 - accuracy: 0.9620 - auc: 0.9938 - precision: 0.9506 - recall: 0.9755"
          ]
        },
        {
          "output_type": "stream",
          "name": "stderr",
          "text": [
            "/usr/local/lib/python3.10/dist-packages/PIL/TiffImagePlugin.py:858: UserWarning: Corrupt EXIF data.  Expecting to read 2 bytes but only got 0. \n",
            "  warnings.warn(str(msg))\n"
          ]
        },
        {
          "output_type": "stream",
          "name": "stdout",
          "text": [
            "157/157 [==============================] - 57s 356ms/step - loss: 0.1046 - accuracy: 0.9640 - auc: 0.9932 - precision: 0.9529 - recall: 0.9762\n"
          ]
        }
      ]
    },
    {
      "cell_type": "code",
      "source": [
        "!cp -r /content/DenseNetImagenet.model.keras /content/drive/MyDrive/UPC/TER"
      ],
      "metadata": {
        "id": "v77czOmmViij"
      },
      "execution_count": 65,
      "outputs": []
    }
  ]
}