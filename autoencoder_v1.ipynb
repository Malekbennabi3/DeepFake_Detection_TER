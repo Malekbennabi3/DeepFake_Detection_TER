{
  "metadata": {
    "kernelspec": {
      "language": "python",
      "display_name": "Python 3",
      "name": "python3"
    },
    "language_info": {
      "name": "python",
      "version": "3.10.13",
      "mimetype": "text/x-python",
      "codemirror_mode": {
        "name": "ipython",
        "version": 3
      },
      "pygments_lexer": "ipython3",
      "nbconvert_exporter": "python",
      "file_extension": ".py"
    },
    "kaggle": {
      "accelerator": "gpu",
      "dataSources": [
        {
          "sourceId": 8480601,
          "sourceType": "datasetVersion",
          "datasetId": 5058210
        }
      ],
      "dockerImageVersionId": 30699,
      "isInternetEnabled": true,
      "language": "python",
      "sourceType": "notebook",
      "isGpuEnabled": true
    },
    "colab": {
      "provenance": []
    }
  },
  "nbformat_minor": 0,
  "nbformat": 4,
  "cells": [
    {
      "cell_type": "code",
      "source": [
        "from keras.layers import BatchNormalization\n",
        "from keras.layers import Conv2D\n",
        "from keras.layers import Conv2DTranspose\n",
        "from keras.layers import LeakyReLU\n",
        "from keras.layers import Activation\n",
        "from keras.layers import Flatten\n",
        "from keras.layers import Dense\n",
        "from keras.layers import Reshape\n",
        "from keras.layers import Input\n",
        "from keras.layers import Dropout\n",
        "from keras.models import Model\n",
        "from tensorflow.keras import backend as K\n",
        "from keras.layers import Rescaling, Resizing\n",
        "from keras.optimizers import Adam\n",
        "from tensorflow.keras.preprocessing.image import ImageDataGenerator\n",
        "from keras.callbacks import ModelCheckpoint, EarlyStopping, ReduceLROnPlateau, LambdaCallback, TensorBoard, BackupAndRestore\n",
        "from keras import regularizers\n",
        "import numpy as np\n",
        "import os\n",
        "import datetime\n",
        "import gc #garbage collector\n",
        "from sklearn.model_selection import train_test_split\n",
        "import tensorflow as tf\n",
        "import matplotlib.pyplot as plt\n",
        "from PIL import Image\n",
        "from tqdm import tqdm\n",
        "import cv2\n",
        "import psutil\n",
        "from random import shuffle, sample"
      ],
      "metadata": {
        "_uuid": "8f2839f25d086af736a60e9eeb907d3b93b6e0e5",
        "_cell_guid": "b1076dfc-b9ad-4769-8c92-a6c4dae69d19",
        "execution": {
          "iopub.status.busy": "2024-05-23T22:39:18.585336Z",
          "iopub.execute_input": "2024-05-23T22:39:18.586088Z",
          "iopub.status.idle": "2024-05-23T22:39:32.676801Z",
          "shell.execute_reply.started": "2024-05-23T22:39:18.586052Z",
          "shell.execute_reply": "2024-05-23T22:39:32.675837Z"
        },
        "trusted": true,
        "id": "JGRIEgQ6ezbu",
        "outputId": "b589f922-b9db-4626-e38c-64b7a6214e94"
      },
      "execution_count": null,
      "outputs": [
        {
          "name": "stderr",
          "text": "2024-05-23 22:39:20.316163: E external/local_xla/xla/stream_executor/cuda/cuda_dnn.cc:9261] Unable to register cuDNN factory: Attempting to register factory for plugin cuDNN when one has already been registered\n2024-05-23 22:39:20.316298: E external/local_xla/xla/stream_executor/cuda/cuda_fft.cc:607] Unable to register cuFFT factory: Attempting to register factory for plugin cuFFT when one has already been registered\n2024-05-23 22:39:20.436776: E external/local_xla/xla/stream_executor/cuda/cuda_blas.cc:1515] Unable to register cuBLAS factory: Attempting to register factory for plugin cuBLAS when one has already been registered\n",
          "output_type": "stream"
        }
      ]
    },
    {
      "cell_type": "code",
      "source": [
        "physical_devices = tf.config.experimental.list_physical_devices('GPU')\n",
        "if len(physical_devices) > 0:\n",
        "    tf.config.experimental.set_memory_growth(physical_devices[0], True)"
      ],
      "metadata": {
        "execution": {
          "iopub.status.busy": "2024-05-23T22:39:32.678444Z",
          "iopub.execute_input": "2024-05-23T22:39:32.679053Z",
          "iopub.status.idle": "2024-05-23T22:39:32.864432Z",
          "shell.execute_reply.started": "2024-05-23T22:39:32.679024Z",
          "shell.execute_reply": "2024-05-23T22:39:32.863348Z"
        },
        "trusted": true,
        "id": "eafSPSdGezbv"
      },
      "execution_count": null,
      "outputs": []
    },
    {
      "cell_type": "code",
      "source": [
        "latentDim = 2048\n",
        "inputShape = (64, 64, 3)\n",
        "chanDim = 3\n",
        "depth = 1\n",
        "\n",
        "inputs = Input(shape=inputShape)\n",
        "x = inputs\n",
        "\n",
        "\n",
        "x = Conv2D(256, (3, 3), strides=2, padding=\"same\")(x)\n",
        "x = LeakyReLU(alpha=0.2)(x)\n",
        "x = BatchNormalization(axis=chanDim)(x)\n",
        "\n",
        "x = Conv2D(128, (3, 3), strides=2, padding=\"same\")(x)\n",
        "x = LeakyReLU(alpha=0.2)(x)\n",
        "x = BatchNormalization(axis=chanDim)(x)\n",
        "\n",
        "x = Conv2D(64, (3, 3), strides=2, padding=\"same\")(x)\n",
        "x = LeakyReLU(alpha=0.2)(x)\n",
        "x = BatchNormalization(axis=chanDim)(x)\n",
        "\n",
        "volumeSize = K.int_shape(x)\n",
        "x = Flatten()(x)\n",
        "latent = Dense(latentDim)(x)\n",
        "encoder = Model(inputs, latent, name=\"encoder\")\n",
        "\n",
        "latentInputs = Input(shape=(latentDim,))\n",
        "x = Dense(np.prod(volumeSize[1:]))(latentInputs)\n",
        "x = Reshape((volumeSize[1], volumeSize[2], volumeSize[3]))(x)\n",
        "\n",
        "\n",
        "x = Conv2DTranspose(64, (3, 3), strides=2, padding=\"same\")(x)\n",
        "x = LeakyReLU(alpha=0.2)(x)\n",
        "x = BatchNormalization(axis=chanDim)(x)\n",
        "\n",
        "x = Conv2DTranspose(128, (3, 3), strides=2, padding=\"same\")(x)\n",
        "x = LeakyReLU(alpha=0.2)(x)\n",
        "x = BatchNormalization(axis=chanDim)(x)\n",
        "\n",
        "x = Conv2DTranspose(256, (3, 3), strides=2, padding=\"same\")(x)\n",
        "x = LeakyReLU(alpha=0.2)(x)\n",
        "x = BatchNormalization(axis=chanDim)(x)\n",
        "\n",
        "x = Conv2DTranspose(3, (3, 3), padding=\"same\")(x)\n",
        "outputs = Activation(\"sigmoid\")(x)\n",
        "\n",
        "decoder = Model(latentInputs, outputs, name=\"decoder\")\n",
        "\n",
        "autoencoder = Model(inputs, decoder(encoder(inputs)), name=\"autoencoder\")\n",
        "\n",
        "autoencoder.compile(loss=\"mse\", optimizer=Adam(learning_rate=1e-2))"
      ],
      "metadata": {
        "execution": {
          "iopub.status.busy": "2024-05-23T22:39:32.865818Z",
          "iopub.execute_input": "2024-05-23T22:39:32.866113Z",
          "iopub.status.idle": "2024-05-23T22:39:33.253057Z",
          "shell.execute_reply.started": "2024-05-23T22:39:32.866087Z",
          "shell.execute_reply": "2024-05-23T22:39:33.251937Z"
        },
        "trusted": true,
        "id": "eS6sP8iEezbv",
        "outputId": "9553538f-2192-44b7-a35a-2b0757646f8d"
      },
      "execution_count": null,
      "outputs": [
        {
          "name": "stderr",
          "text": "/opt/conda/lib/python3.10/site-packages/keras/src/layers/activations/leaky_relu.py:41: UserWarning: Argument `alpha` is deprecated. Use `negative_slope` instead.\n  warnings.warn(\n",
          "output_type": "stream"
        }
      ]
    },
    {
      "cell_type": "code",
      "source": [
        "!pip install gdown"
      ],
      "metadata": {
        "execution": {
          "iopub.status.busy": "2024-05-23T19:51:06.767707Z",
          "iopub.execute_input": "2024-05-23T19:51:06.767969Z",
          "iopub.status.idle": "2024-05-23T19:51:20.224497Z",
          "shell.execute_reply.started": "2024-05-23T19:51:06.767947Z",
          "shell.execute_reply": "2024-05-23T19:51:20.223535Z"
        },
        "trusted": true,
        "id": "6-qmC6jQezbv",
        "outputId": "b1b3d4d1-47f7-4542-9b0a-0a514e3a76af"
      },
      "execution_count": null,
      "outputs": [
        {
          "name": "stdout",
          "text": "Collecting gdown\n  Downloading gdown-5.2.0-py3-none-any.whl.metadata (5.8 kB)\nRequirement already satisfied: beautifulsoup4 in /opt/conda/lib/python3.10/site-packages (from gdown) (4.12.2)\nRequirement already satisfied: filelock in /opt/conda/lib/python3.10/site-packages (from gdown) (3.13.1)\nRequirement already satisfied: requests[socks] in /opt/conda/lib/python3.10/site-packages (from gdown) (2.31.0)\nRequirement already satisfied: tqdm in /opt/conda/lib/python3.10/site-packages (from gdown) (4.66.1)\nRequirement already satisfied: soupsieve>1.2 in /opt/conda/lib/python3.10/site-packages (from beautifulsoup4->gdown) (2.5)\nRequirement already satisfied: charset-normalizer<4,>=2 in /opt/conda/lib/python3.10/site-packages (from requests[socks]->gdown) (3.3.2)\nRequirement already satisfied: idna<4,>=2.5 in /opt/conda/lib/python3.10/site-packages (from requests[socks]->gdown) (3.6)\nRequirement already satisfied: urllib3<3,>=1.21.1 in /opt/conda/lib/python3.10/site-packages (from requests[socks]->gdown) (1.26.18)\nRequirement already satisfied: certifi>=2017.4.17 in /opt/conda/lib/python3.10/site-packages (from requests[socks]->gdown) (2024.2.2)\nRequirement already satisfied: PySocks!=1.5.7,>=1.5.6 in /opt/conda/lib/python3.10/site-packages (from requests[socks]->gdown) (1.7.1)\nDownloading gdown-5.2.0-py3-none-any.whl (18 kB)\nInstalling collected packages: gdown\nSuccessfully installed gdown-5.2.0\n",
          "output_type": "stream"
        }
      ]
    },
    {
      "cell_type": "code",
      "source": [
        "!gdown 'https://drive.google.com/uc?id=1UYRfDxHJVdxvLXnyRtcvt4MlUbWMM5ry'"
      ],
      "metadata": {
        "execution": {
          "iopub.status.busy": "2024-05-23T19:51:20.227429Z",
          "iopub.execute_input": "2024-05-23T19:51:20.227743Z",
          "iopub.status.idle": "2024-05-23T19:51:28.758231Z",
          "shell.execute_reply.started": "2024-05-23T19:51:20.227713Z",
          "shell.execute_reply": "2024-05-23T19:51:28.757266Z"
        },
        "trusted": true,
        "id": "gnWBwHJiezbv",
        "outputId": "e432f276-faa4-4a49-82b4-255112e6e9c9"
      },
      "execution_count": null,
      "outputs": [
        {
          "name": "stdout",
          "text": "Downloading...\nFrom: https://drive.google.com/uc?id=1UYRfDxHJVdxvLXnyRtcvt4MlUbWMM5ry\nTo: /kaggle/working/real_face_best_model_64.h5\n100%|██████████████████████████████████████| 70.3M/70.3M [00:02<00:00, 31.7MB/s]\n",
          "output_type": "stream"
        }
      ]
    },
    {
      "cell_type": "code",
      "source": [
        "from tensorflow.keras.models import load_model\n",
        "autoencoder = load_model('real_face_best_model_64.h5')"
      ],
      "metadata": {
        "trusted": true,
        "id": "mLLiKtKyezbv"
      },
      "execution_count": null,
      "outputs": []
    },
    {
      "cell_type": "code",
      "source": [
        "import numpy as np\n",
        "import os\n",
        "from tensorflow.keras.models import load_model, Model\n",
        "from tensorflow.keras.preprocessing.image import img_to_array, load_img\n",
        "from sklearn.svm import SVC\n",
        "from sklearn.preprocessing import LabelEncoder\n",
        "from sklearn.model_selection import train_test_split\n",
        "from sklearn.metrics import classification_report\n",
        "from tqdm import tqdm"
      ],
      "metadata": {
        "execution": {
          "iopub.status.busy": "2024-05-23T22:39:33.254995Z",
          "iopub.execute_input": "2024-05-23T22:39:33.255285Z",
          "iopub.status.idle": "2024-05-23T22:39:33.336469Z",
          "shell.execute_reply.started": "2024-05-23T22:39:33.255261Z",
          "shell.execute_reply": "2024-05-23T22:39:33.335726Z"
        },
        "trusted": true,
        "id": "UHMYAvRVezbv"
      },
      "execution_count": null,
      "outputs": []
    },
    {
      "cell_type": "code",
      "source": [
        "# Define the paths to your folders\n",
        "real_faces_path = \"/kaggle/input/real-fake-faces/face_fake/face_fake\"\n",
        "fake_faces_path = \"/kaggle/input/real-fake-faces/face_real/face_real\""
      ],
      "metadata": {
        "execution": {
          "iopub.status.busy": "2024-05-23T22:39:33.337755Z",
          "iopub.execute_input": "2024-05-23T22:39:33.338393Z",
          "iopub.status.idle": "2024-05-23T22:39:33.342667Z",
          "shell.execute_reply.started": "2024-05-23T22:39:33.338359Z",
          "shell.execute_reply": "2024-05-23T22:39:33.341781Z"
        },
        "trusted": true,
        "id": "FKL9GTZYezbv"
      },
      "execution_count": null,
      "outputs": []
    },
    {
      "cell_type": "code",
      "source": [],
      "metadata": {
        "id": "4X2YV84mfQRl"
      },
      "execution_count": null,
      "outputs": []
    },
    {
      "cell_type": "code",
      "source": [
        "# Extract the encoder part from the autoencoder\n",
        "encoder = Model(inputs=autoencoder.input, outputs=autoencoder.get_layer(\"encoder\").output)\n",
        "encoder.trainable = False  # Freeze the encoder"
      ],
      "metadata": {
        "execution": {
          "iopub.status.busy": "2024-05-23T22:39:33.343688Z",
          "iopub.execute_input": "2024-05-23T22:39:33.343968Z",
          "iopub.status.idle": "2024-05-23T22:39:33.357975Z",
          "shell.execute_reply.started": "2024-05-23T22:39:33.343946Z",
          "shell.execute_reply": "2024-05-23T22:39:33.357098Z"
        },
        "trusted": true,
        "id": "GDh-dadVezbw"
      },
      "execution_count": null,
      "outputs": []
    },
    {
      "cell_type": "code",
      "source": [
        "!rm -r real_vs_fake"
      ],
      "metadata": {
        "execution": {
          "iopub.status.busy": "2024-05-23T22:40:12.912822Z",
          "iopub.execute_input": "2024-05-23T22:40:12.913580Z",
          "iopub.status.idle": "2024-05-23T22:40:17.543701Z",
          "shell.execute_reply.started": "2024-05-23T22:40:12.913548Z",
          "shell.execute_reply": "2024-05-23T22:40:17.542606Z"
        },
        "trusted": true,
        "id": "5VRMwByYezbw"
      },
      "execution_count": null,
      "outputs": []
    },
    {
      "cell_type": "code",
      "source": [
        "import os\n",
        "import shutil\n",
        "import random\n",
        "\n",
        "# Define paths\n",
        "source_folder = \"/kaggle/input/real-fake-faces/face_real/face_real\"\n",
        "destination_folder = \"real_vs_fake\"\n",
        "\n",
        "# Create destination folder if it doesn't exist\n",
        "if not os.path.exists(destination_folder):\n",
        "    os.makedirs(destination_folder)\n",
        "\n",
        "# Create test, train, and valid folders within destination folder\n",
        "folders = ['test', 'train', 'valid']\n",
        "for folder in folders:\n",
        "    os.makedirs(os.path.join(destination_folder, folder, 'real'), exist_ok=True)\n",
        "\n",
        "# List all images in source folder\n",
        "images = os.listdir(source_folder)\n",
        "random.shuffle(images)\n",
        "\n",
        "# Calculate the number of images for each category\n",
        "total_images = len(images)\n",
        "test_count = 5000\n",
        "train_count = int(0.8 * (total_images - test_count))\n",
        "valid_count = total_images - test_count - train_count\n",
        "\n",
        "# Move images to respective folders\n",
        "for folder, count in [('test', test_count), ('train', train_count), ('valid', valid_count)]:\n",
        "    for i in range(count):\n",
        "        image = images.pop()\n",
        "        shutil.copy(os.path.join(source_folder, image), os.path.join(destination_folder, folder, 'real'))\n",
        "\n",
        "# Copy train, valid, and test folders to real_vs_fake\n",
        "# for folder in folders:\n",
        "#     shutil.copytree(os.path.join(destination_folder, folder), os.path.join(destination_folder, 'real_vs_fake', folder))"
      ],
      "metadata": {
        "execution": {
          "iopub.status.busy": "2024-05-23T22:40:18.742390Z",
          "iopub.execute_input": "2024-05-23T22:40:18.743395Z",
          "iopub.status.idle": "2024-05-23T22:42:52.473258Z",
          "shell.execute_reply.started": "2024-05-23T22:40:18.743359Z",
          "shell.execute_reply": "2024-05-23T22:42:52.472356Z"
        },
        "trusted": true,
        "id": "VMsGxOdBezbw"
      },
      "execution_count": null,
      "outputs": []
    },
    {
      "cell_type": "code",
      "source": [
        "# Define paths\n",
        "source_folder = \"/kaggle/input/real-fake-faces/face_fake/face_fake\"\n",
        "destination_folder = \"real_vs_fake\"\n",
        "\n",
        "# Create destination folder if it doesn't exist\n",
        "if not os.path.exists(destination_folder):\n",
        "    os.makedirs(destination_folder)\n",
        "\n",
        "# Create test, train, and valid folders within destination folder\n",
        "folders = ['test', 'train', 'valid']\n",
        "for folder in folders:\n",
        "    os.makedirs(os.path.join(destination_folder, folder, 'fake'), exist_ok=True)\n",
        "\n",
        "# List all images in source folder\n",
        "images = os.listdir(source_folder)\n",
        "random.shuffle(images)\n",
        "\n",
        "# Calculate the number of images for each category\n",
        "total_images = len(images)\n",
        "test_count = 5000\n",
        "train_count = int(0.8 * (total_images - test_count))\n",
        "valid_count = total_images - test_count - train_count\n",
        "\n",
        "# Move images to respective folders\n",
        "for folder, count in [('test', test_count), ('train', train_count), ('valid', valid_count)]:\n",
        "    for i in range(count):\n",
        "        image = images.pop()\n",
        "        shutil.copy(os.path.join(source_folder, image), os.path.join(destination_folder, folder, 'fake'))\n",
        "\n",
        "# Copy train, valid, and test folders to real_vs_fake\n",
        "# for folder in folders:\n",
        "#     shutil.copytree(os.path.join(destination_folder, folder), os.path.join(destination_folder, 'real_vs_fake', folder))\n"
      ],
      "metadata": {
        "execution": {
          "iopub.status.busy": "2024-05-23T22:42:52.475037Z",
          "iopub.execute_input": "2024-05-23T22:42:52.475344Z",
          "iopub.status.idle": "2024-05-23T22:45:16.798270Z",
          "shell.execute_reply.started": "2024-05-23T22:42:52.475318Z",
          "shell.execute_reply": "2024-05-23T22:45:16.797207Z"
        },
        "trusted": true,
        "id": "zypGLHfjezbw"
      },
      "execution_count": null,
      "outputs": []
    },
    {
      "cell_type": "code",
      "source": [
        "def count_files(folder_path):\n",
        "    # Initialize count\n",
        "    file_count = 0\n",
        "\n",
        "    # Walk through the folder and count files\n",
        "    for _, _, files in os.walk(folder_path):\n",
        "        file_count += len(files)\n",
        "\n",
        "    return file_count"
      ],
      "metadata": {
        "execution": {
          "iopub.status.busy": "2024-05-23T22:45:16.799648Z",
          "iopub.execute_input": "2024-05-23T22:45:16.800009Z",
          "iopub.status.idle": "2024-05-23T22:45:16.806294Z",
          "shell.execute_reply.started": "2024-05-23T22:45:16.799977Z",
          "shell.execute_reply": "2024-05-23T22:45:16.805199Z"
        },
        "trusted": true,
        "id": "fEEfezIWezbw"
      },
      "execution_count": null,
      "outputs": []
    },
    {
      "cell_type": "code",
      "source": [
        "# Specify the folder path\n",
        "folders = ['test', 'train', 'valid']\n",
        "folder_path = 'real_vs_fake/'\n",
        "\n",
        "for i in folders:\n",
        "  print(\"Number of files in fake/\"+str(i)+\" :\", count_files(folder_path+i+'/fake'))"
      ],
      "metadata": {
        "execution": {
          "iopub.status.busy": "2024-05-23T22:45:16.808446Z",
          "iopub.execute_input": "2024-05-23T22:45:16.808764Z",
          "iopub.status.idle": "2024-05-23T22:45:16.864871Z",
          "shell.execute_reply.started": "2024-05-23T22:45:16.808731Z",
          "shell.execute_reply": "2024-05-23T22:45:16.863919Z"
        },
        "trusted": true,
        "id": "Sfb6xj7Qezbw",
        "outputId": "8a73ae2a-57fd-4a7a-b66f-a7455b7e448f"
      },
      "execution_count": null,
      "outputs": [
        {
          "name": "stdout",
          "text": "Number of files in fake/test : 5000\nNumber of files in fake/train : 23070\nNumber of files in fake/valid : 5768\n",
          "output_type": "stream"
        }
      ]
    },
    {
      "cell_type": "code",
      "source": [
        "# Specify the folder path\n",
        "folders = ['test', 'train', 'valid']\n",
        "folder_path = 'real_vs_fake/'\n",
        "\n",
        "for i in folders:\n",
        "  print(\"Number of files in real/\"+str(i)+\" :\", count_files(folder_path+i+'/real'))"
      ],
      "metadata": {
        "execution": {
          "iopub.status.busy": "2024-05-23T22:45:16.866133Z",
          "iopub.execute_input": "2024-05-23T22:45:16.866403Z",
          "iopub.status.idle": "2024-05-23T22:45:16.920044Z",
          "shell.execute_reply.started": "2024-05-23T22:45:16.866380Z",
          "shell.execute_reply": "2024-05-23T22:45:16.919065Z"
        },
        "trusted": true,
        "id": "aKsPLQk1ezbw",
        "outputId": "919603db-9e72-4860-f54d-3b00b74f52fb"
      },
      "execution_count": null,
      "outputs": [
        {
          "name": "stdout",
          "text": "Number of files in real/test : 5000\nNumber of files in real/train : 23712\nNumber of files in real/valid : 5929\n",
          "output_type": "stream"
        }
      ]
    },
    {
      "cell_type": "code",
      "source": [
        "base_path = 'real_vs_fake/'\n",
        "image_gen = ImageDataGenerator(\n",
        "    rescale=1./255,\n",
        "    rotation_range=40,\n",
        "    width_shift_range=0.2,\n",
        "    height_shift_range=0.2,\n",
        "    shear_range=0.2,\n",
        "    zoom_range=0.2,\n",
        "    horizontal_flip=True,\n",
        "    fill_mode='nearest'\n",
        ")\n",
        "\n",
        "# Create the data generator with augmentation\n",
        "train_flow = image_gen.flow_from_directory(\n",
        "    base_path + 'train/',\n",
        "    target_size=(64, 64),\n",
        "    batch_size=64,\n",
        "    class_mode='binary'\n",
        ")\n",
        "\n",
        "image_gen1 = ImageDataGenerator(rescale=1./255)\n",
        "\n",
        "valid_flow = image_gen1.flow_from_directory(\n",
        "    base_path + 'valid/',\n",
        "    target_size=(64, 64),\n",
        "    batch_size=64,\n",
        "    class_mode='binary'\n",
        ")\n",
        "\n",
        "image_gen1 = ImageDataGenerator(rescale=1./255.)\n",
        "test_flow = image_gen.flow_from_directory(\n",
        "    base_path + 'test/',\n",
        "    target_size=(64, 64),\n",
        "    batch_size=64,\n",
        "    class_mode='binary',\n",
        "    shuffle=False\n",
        ")"
      ],
      "metadata": {
        "execution": {
          "iopub.status.busy": "2024-05-23T22:45:16.921328Z",
          "iopub.execute_input": "2024-05-23T22:45:16.921702Z",
          "iopub.status.idle": "2024-05-23T22:45:19.959640Z",
          "shell.execute_reply.started": "2024-05-23T22:45:16.921672Z",
          "shell.execute_reply": "2024-05-23T22:45:19.958809Z"
        },
        "trusted": true,
        "id": "3kGE9qQrezbw",
        "outputId": "e60a52e8-c3c0-4b86-968b-91154cddfb22"
      },
      "execution_count": null,
      "outputs": [
        {
          "name": "stdout",
          "text": "Found 46782 images belonging to 2 classes.\nFound 11697 images belonging to 2 classes.\nFound 10000 images belonging to 2 classes.\n",
          "output_type": "stream"
        }
      ]
    },
    {
      "cell_type": "code",
      "source": [
        "from tensorflow.keras.layers import Input, Dense, Dropout\n",
        "from tensorflow.keras.models import Model\n",
        "from tensorflow.keras.optimizers import Adam\n",
        "\n",
        "# Freeze the encoder layers\n",
        "for layer in encoder.layers:\n",
        "    layer.trainable = False\n",
        "\n",
        "# Using the existing encoder model\n",
        "encoded_input = encoder.output\n",
        "\n",
        "# Adding new layers for binary classification\n",
        "x = Dense(1024, activation=\"relu\")(encoded_input)\n",
        "# x = Dropout(0.3)(x)\n",
        "# x = Dense(512, activation=\"relu\")(x)\n",
        "# x = Dropout(0.3)(x)\n",
        "x = Dense(64, activation=\"relu\")(x)\n",
        "# x = Dropout(0.3)(x)\n",
        "outputs = Dense(1, activation=\"sigmoid\")(x)\n",
        "\n",
        "# Creating the binary classification model\n",
        "binary_classifier = Model(encoder.input, outputs, name=\"binary_classifier\")\n",
        "\n",
        "# Compiling the model\n",
        "binary_classifier.compile(loss=\"binary_crossentropy\", optimizer=Adam(learning_rate=5e-4), metrics=[\"accuracy\"])\n",
        "\n",
        "# Summary of the new model\n",
        "binary_classifier.summary()"
      ],
      "metadata": {
        "execution": {
          "iopub.status.busy": "2024-05-23T22:45:19.960646Z",
          "iopub.execute_input": "2024-05-23T22:45:19.960898Z",
          "iopub.status.idle": "2024-05-23T22:45:20.042415Z",
          "shell.execute_reply.started": "2024-05-23T22:45:19.960876Z",
          "shell.execute_reply": "2024-05-23T22:45:20.041418Z"
        },
        "trusted": true,
        "id": "BN2q4G33ezbw",
        "outputId": "0a76837f-5e5a-49bf-db8e-b9d84fb2512f"
      },
      "execution_count": null,
      "outputs": [
        {
          "output_type": "display_data",
          "data": {
            "text/plain": "\u001b[1mModel: \"binary_classifier\"\u001b[0m\n",
            "text/html": "<pre style=\"white-space:pre;overflow-x:auto;line-height:normal;font-family:Menlo,'DejaVu Sans Mono',consolas,'Courier New',monospace\"><span style=\"font-weight: bold\">Model: \"binary_classifier\"</span>\n</pre>\n"
          },
          "metadata": {}
        },
        {
          "output_type": "display_data",
          "data": {
            "text/plain": "┏━━━━━━━━━━━━━━━━━━━━━━━━━━━━━━━━━┳━━━━━━━━━━━━━━━━━━━━━━━━┳━━━━━━━━━━━━━━━┓\n┃\u001b[1m \u001b[0m\u001b[1mLayer (type)                   \u001b[0m\u001b[1m \u001b[0m┃\u001b[1m \u001b[0m\u001b[1mOutput Shape          \u001b[0m\u001b[1m \u001b[0m┃\u001b[1m \u001b[0m\u001b[1m      Param #\u001b[0m\u001b[1m \u001b[0m┃\n┡━━━━━━━━━━━━━━━━━━━━━━━━━━━━━━━━━╇━━━━━━━━━━━━━━━━━━━━━━━━╇━━━━━━━━━━━━━━━┩\n│ input_layer (\u001b[38;5;33mInputLayer\u001b[0m)        │ (\u001b[38;5;45mNone\u001b[0m, \u001b[38;5;34m64\u001b[0m, \u001b[38;5;34m64\u001b[0m, \u001b[38;5;34m3\u001b[0m)      │             \u001b[38;5;34m0\u001b[0m │\n├─────────────────────────────────┼────────────────────────┼───────────────┤\n│ conv2d (\u001b[38;5;33mConv2D\u001b[0m)                 │ (\u001b[38;5;45mNone\u001b[0m, \u001b[38;5;34m32\u001b[0m, \u001b[38;5;34m32\u001b[0m, \u001b[38;5;34m256\u001b[0m)    │         \u001b[38;5;34m7,168\u001b[0m │\n├─────────────────────────────────┼────────────────────────┼───────────────┤\n│ leaky_re_lu (\u001b[38;5;33mLeakyReLU\u001b[0m)         │ (\u001b[38;5;45mNone\u001b[0m, \u001b[38;5;34m32\u001b[0m, \u001b[38;5;34m32\u001b[0m, \u001b[38;5;34m256\u001b[0m)    │             \u001b[38;5;34m0\u001b[0m │\n├─────────────────────────────────┼────────────────────────┼───────────────┤\n│ batch_normalization             │ (\u001b[38;5;45mNone\u001b[0m, \u001b[38;5;34m32\u001b[0m, \u001b[38;5;34m32\u001b[0m, \u001b[38;5;34m256\u001b[0m)    │         \u001b[38;5;34m1,024\u001b[0m │\n│ (\u001b[38;5;33mBatchNormalization\u001b[0m)            │                        │               │\n├─────────────────────────────────┼────────────────────────┼───────────────┤\n│ conv2d_1 (\u001b[38;5;33mConv2D\u001b[0m)               │ (\u001b[38;5;45mNone\u001b[0m, \u001b[38;5;34m16\u001b[0m, \u001b[38;5;34m16\u001b[0m, \u001b[38;5;34m128\u001b[0m)    │       \u001b[38;5;34m295,040\u001b[0m │\n├─────────────────────────────────┼────────────────────────┼───────────────┤\n│ leaky_re_lu_1 (\u001b[38;5;33mLeakyReLU\u001b[0m)       │ (\u001b[38;5;45mNone\u001b[0m, \u001b[38;5;34m16\u001b[0m, \u001b[38;5;34m16\u001b[0m, \u001b[38;5;34m128\u001b[0m)    │             \u001b[38;5;34m0\u001b[0m │\n├─────────────────────────────────┼────────────────────────┼───────────────┤\n│ batch_normalization_1           │ (\u001b[38;5;45mNone\u001b[0m, \u001b[38;5;34m16\u001b[0m, \u001b[38;5;34m16\u001b[0m, \u001b[38;5;34m128\u001b[0m)    │           \u001b[38;5;34m512\u001b[0m │\n│ (\u001b[38;5;33mBatchNormalization\u001b[0m)            │                        │               │\n├─────────────────────────────────┼────────────────────────┼───────────────┤\n│ conv2d_2 (\u001b[38;5;33mConv2D\u001b[0m)               │ (\u001b[38;5;45mNone\u001b[0m, \u001b[38;5;34m8\u001b[0m, \u001b[38;5;34m8\u001b[0m, \u001b[38;5;34m64\u001b[0m)       │        \u001b[38;5;34m73,792\u001b[0m │\n├─────────────────────────────────┼────────────────────────┼───────────────┤\n│ leaky_re_lu_2 (\u001b[38;5;33mLeakyReLU\u001b[0m)       │ (\u001b[38;5;45mNone\u001b[0m, \u001b[38;5;34m8\u001b[0m, \u001b[38;5;34m8\u001b[0m, \u001b[38;5;34m64\u001b[0m)       │             \u001b[38;5;34m0\u001b[0m │\n├─────────────────────────────────┼────────────────────────┼───────────────┤\n│ batch_normalization_2           │ (\u001b[38;5;45mNone\u001b[0m, \u001b[38;5;34m8\u001b[0m, \u001b[38;5;34m8\u001b[0m, \u001b[38;5;34m64\u001b[0m)       │           \u001b[38;5;34m256\u001b[0m │\n│ (\u001b[38;5;33mBatchNormalization\u001b[0m)            │                        │               │\n├─────────────────────────────────┼────────────────────────┼───────────────┤\n│ flatten (\u001b[38;5;33mFlatten\u001b[0m)               │ (\u001b[38;5;45mNone\u001b[0m, \u001b[38;5;34m4096\u001b[0m)           │             \u001b[38;5;34m0\u001b[0m │\n├─────────────────────────────────┼────────────────────────┼───────────────┤\n│ dense (\u001b[38;5;33mDense\u001b[0m)                   │ (\u001b[38;5;45mNone\u001b[0m, \u001b[38;5;34m2048\u001b[0m)           │     \u001b[38;5;34m8,390,656\u001b[0m │\n├─────────────────────────────────┼────────────────────────┼───────────────┤\n│ dense_2 (\u001b[38;5;33mDense\u001b[0m)                 │ (\u001b[38;5;45mNone\u001b[0m, \u001b[38;5;34m1024\u001b[0m)           │     \u001b[38;5;34m2,098,176\u001b[0m │\n├─────────────────────────────────┼────────────────────────┼───────────────┤\n│ dense_3 (\u001b[38;5;33mDense\u001b[0m)                 │ (\u001b[38;5;45mNone\u001b[0m, \u001b[38;5;34m64\u001b[0m)             │        \u001b[38;5;34m65,600\u001b[0m │\n├─────────────────────────────────┼────────────────────────┼───────────────┤\n│ dense_4 (\u001b[38;5;33mDense\u001b[0m)                 │ (\u001b[38;5;45mNone\u001b[0m, \u001b[38;5;34m1\u001b[0m)              │            \u001b[38;5;34m65\u001b[0m │\n└─────────────────────────────────┴────────────────────────┴───────────────┘\n",
            "text/html": "<pre style=\"white-space:pre;overflow-x:auto;line-height:normal;font-family:Menlo,'DejaVu Sans Mono',consolas,'Courier New',monospace\">┏━━━━━━━━━━━━━━━━━━━━━━━━━━━━━━━━━┳━━━━━━━━━━━━━━━━━━━━━━━━┳━━━━━━━━━━━━━━━┓\n┃<span style=\"font-weight: bold\"> Layer (type)                    </span>┃<span style=\"font-weight: bold\"> Output Shape           </span>┃<span style=\"font-weight: bold\">       Param # </span>┃\n┡━━━━━━━━━━━━━━━━━━━━━━━━━━━━━━━━━╇━━━━━━━━━━━━━━━━━━━━━━━━╇━━━━━━━━━━━━━━━┩\n│ input_layer (<span style=\"color: #0087ff; text-decoration-color: #0087ff\">InputLayer</span>)        │ (<span style=\"color: #00d7ff; text-decoration-color: #00d7ff\">None</span>, <span style=\"color: #00af00; text-decoration-color: #00af00\">64</span>, <span style=\"color: #00af00; text-decoration-color: #00af00\">64</span>, <span style=\"color: #00af00; text-decoration-color: #00af00\">3</span>)      │             <span style=\"color: #00af00; text-decoration-color: #00af00\">0</span> │\n├─────────────────────────────────┼────────────────────────┼───────────────┤\n│ conv2d (<span style=\"color: #0087ff; text-decoration-color: #0087ff\">Conv2D</span>)                 │ (<span style=\"color: #00d7ff; text-decoration-color: #00d7ff\">None</span>, <span style=\"color: #00af00; text-decoration-color: #00af00\">32</span>, <span style=\"color: #00af00; text-decoration-color: #00af00\">32</span>, <span style=\"color: #00af00; text-decoration-color: #00af00\">256</span>)    │         <span style=\"color: #00af00; text-decoration-color: #00af00\">7,168</span> │\n├─────────────────────────────────┼────────────────────────┼───────────────┤\n│ leaky_re_lu (<span style=\"color: #0087ff; text-decoration-color: #0087ff\">LeakyReLU</span>)         │ (<span style=\"color: #00d7ff; text-decoration-color: #00d7ff\">None</span>, <span style=\"color: #00af00; text-decoration-color: #00af00\">32</span>, <span style=\"color: #00af00; text-decoration-color: #00af00\">32</span>, <span style=\"color: #00af00; text-decoration-color: #00af00\">256</span>)    │             <span style=\"color: #00af00; text-decoration-color: #00af00\">0</span> │\n├─────────────────────────────────┼────────────────────────┼───────────────┤\n│ batch_normalization             │ (<span style=\"color: #00d7ff; text-decoration-color: #00d7ff\">None</span>, <span style=\"color: #00af00; text-decoration-color: #00af00\">32</span>, <span style=\"color: #00af00; text-decoration-color: #00af00\">32</span>, <span style=\"color: #00af00; text-decoration-color: #00af00\">256</span>)    │         <span style=\"color: #00af00; text-decoration-color: #00af00\">1,024</span> │\n│ (<span style=\"color: #0087ff; text-decoration-color: #0087ff\">BatchNormalization</span>)            │                        │               │\n├─────────────────────────────────┼────────────────────────┼───────────────┤\n│ conv2d_1 (<span style=\"color: #0087ff; text-decoration-color: #0087ff\">Conv2D</span>)               │ (<span style=\"color: #00d7ff; text-decoration-color: #00d7ff\">None</span>, <span style=\"color: #00af00; text-decoration-color: #00af00\">16</span>, <span style=\"color: #00af00; text-decoration-color: #00af00\">16</span>, <span style=\"color: #00af00; text-decoration-color: #00af00\">128</span>)    │       <span style=\"color: #00af00; text-decoration-color: #00af00\">295,040</span> │\n├─────────────────────────────────┼────────────────────────┼───────────────┤\n│ leaky_re_lu_1 (<span style=\"color: #0087ff; text-decoration-color: #0087ff\">LeakyReLU</span>)       │ (<span style=\"color: #00d7ff; text-decoration-color: #00d7ff\">None</span>, <span style=\"color: #00af00; text-decoration-color: #00af00\">16</span>, <span style=\"color: #00af00; text-decoration-color: #00af00\">16</span>, <span style=\"color: #00af00; text-decoration-color: #00af00\">128</span>)    │             <span style=\"color: #00af00; text-decoration-color: #00af00\">0</span> │\n├─────────────────────────────────┼────────────────────────┼───────────────┤\n│ batch_normalization_1           │ (<span style=\"color: #00d7ff; text-decoration-color: #00d7ff\">None</span>, <span style=\"color: #00af00; text-decoration-color: #00af00\">16</span>, <span style=\"color: #00af00; text-decoration-color: #00af00\">16</span>, <span style=\"color: #00af00; text-decoration-color: #00af00\">128</span>)    │           <span style=\"color: #00af00; text-decoration-color: #00af00\">512</span> │\n│ (<span style=\"color: #0087ff; text-decoration-color: #0087ff\">BatchNormalization</span>)            │                        │               │\n├─────────────────────────────────┼────────────────────────┼───────────────┤\n│ conv2d_2 (<span style=\"color: #0087ff; text-decoration-color: #0087ff\">Conv2D</span>)               │ (<span style=\"color: #00d7ff; text-decoration-color: #00d7ff\">None</span>, <span style=\"color: #00af00; text-decoration-color: #00af00\">8</span>, <span style=\"color: #00af00; text-decoration-color: #00af00\">8</span>, <span style=\"color: #00af00; text-decoration-color: #00af00\">64</span>)       │        <span style=\"color: #00af00; text-decoration-color: #00af00\">73,792</span> │\n├─────────────────────────────────┼────────────────────────┼───────────────┤\n│ leaky_re_lu_2 (<span style=\"color: #0087ff; text-decoration-color: #0087ff\">LeakyReLU</span>)       │ (<span style=\"color: #00d7ff; text-decoration-color: #00d7ff\">None</span>, <span style=\"color: #00af00; text-decoration-color: #00af00\">8</span>, <span style=\"color: #00af00; text-decoration-color: #00af00\">8</span>, <span style=\"color: #00af00; text-decoration-color: #00af00\">64</span>)       │             <span style=\"color: #00af00; text-decoration-color: #00af00\">0</span> │\n├─────────────────────────────────┼────────────────────────┼───────────────┤\n│ batch_normalization_2           │ (<span style=\"color: #00d7ff; text-decoration-color: #00d7ff\">None</span>, <span style=\"color: #00af00; text-decoration-color: #00af00\">8</span>, <span style=\"color: #00af00; text-decoration-color: #00af00\">8</span>, <span style=\"color: #00af00; text-decoration-color: #00af00\">64</span>)       │           <span style=\"color: #00af00; text-decoration-color: #00af00\">256</span> │\n│ (<span style=\"color: #0087ff; text-decoration-color: #0087ff\">BatchNormalization</span>)            │                        │               │\n├─────────────────────────────────┼────────────────────────┼───────────────┤\n│ flatten (<span style=\"color: #0087ff; text-decoration-color: #0087ff\">Flatten</span>)               │ (<span style=\"color: #00d7ff; text-decoration-color: #00d7ff\">None</span>, <span style=\"color: #00af00; text-decoration-color: #00af00\">4096</span>)           │             <span style=\"color: #00af00; text-decoration-color: #00af00\">0</span> │\n├─────────────────────────────────┼────────────────────────┼───────────────┤\n│ dense (<span style=\"color: #0087ff; text-decoration-color: #0087ff\">Dense</span>)                   │ (<span style=\"color: #00d7ff; text-decoration-color: #00d7ff\">None</span>, <span style=\"color: #00af00; text-decoration-color: #00af00\">2048</span>)           │     <span style=\"color: #00af00; text-decoration-color: #00af00\">8,390,656</span> │\n├─────────────────────────────────┼────────────────────────┼───────────────┤\n│ dense_2 (<span style=\"color: #0087ff; text-decoration-color: #0087ff\">Dense</span>)                 │ (<span style=\"color: #00d7ff; text-decoration-color: #00d7ff\">None</span>, <span style=\"color: #00af00; text-decoration-color: #00af00\">1024</span>)           │     <span style=\"color: #00af00; text-decoration-color: #00af00\">2,098,176</span> │\n├─────────────────────────────────┼────────────────────────┼───────────────┤\n│ dense_3 (<span style=\"color: #0087ff; text-decoration-color: #0087ff\">Dense</span>)                 │ (<span style=\"color: #00d7ff; text-decoration-color: #00d7ff\">None</span>, <span style=\"color: #00af00; text-decoration-color: #00af00\">64</span>)             │        <span style=\"color: #00af00; text-decoration-color: #00af00\">65,600</span> │\n├─────────────────────────────────┼────────────────────────┼───────────────┤\n│ dense_4 (<span style=\"color: #0087ff; text-decoration-color: #0087ff\">Dense</span>)                 │ (<span style=\"color: #00d7ff; text-decoration-color: #00d7ff\">None</span>, <span style=\"color: #00af00; text-decoration-color: #00af00\">1</span>)              │            <span style=\"color: #00af00; text-decoration-color: #00af00\">65</span> │\n└─────────────────────────────────┴────────────────────────┴───────────────┘\n</pre>\n"
          },
          "metadata": {}
        },
        {
          "output_type": "display_data",
          "data": {
            "text/plain": "\u001b[1m Total params: \u001b[0m\u001b[38;5;34m10,932,289\u001b[0m (41.70 MB)\n",
            "text/html": "<pre style=\"white-space:pre;overflow-x:auto;line-height:normal;font-family:Menlo,'DejaVu Sans Mono',consolas,'Courier New',monospace\"><span style=\"font-weight: bold\"> Total params: </span><span style=\"color: #00af00; text-decoration-color: #00af00\">10,932,289</span> (41.70 MB)\n</pre>\n"
          },
          "metadata": {}
        },
        {
          "output_type": "display_data",
          "data": {
            "text/plain": "\u001b[1m Trainable params: \u001b[0m\u001b[38;5;34m2,163,841\u001b[0m (8.25 MB)\n",
            "text/html": "<pre style=\"white-space:pre;overflow-x:auto;line-height:normal;font-family:Menlo,'DejaVu Sans Mono',consolas,'Courier New',monospace\"><span style=\"font-weight: bold\"> Trainable params: </span><span style=\"color: #00af00; text-decoration-color: #00af00\">2,163,841</span> (8.25 MB)\n</pre>\n"
          },
          "metadata": {}
        },
        {
          "output_type": "display_data",
          "data": {
            "text/plain": "\u001b[1m Non-trainable params: \u001b[0m\u001b[38;5;34m8,768,448\u001b[0m (33.45 MB)\n",
            "text/html": "<pre style=\"white-space:pre;overflow-x:auto;line-height:normal;font-family:Menlo,'DejaVu Sans Mono',consolas,'Courier New',monospace\"><span style=\"font-weight: bold\"> Non-trainable params: </span><span style=\"color: #00af00; text-decoration-color: #00af00\">8,768,448</span> (33.45 MB)\n</pre>\n"
          },
          "metadata": {}
        }
      ]
    },
    {
      "cell_type": "code",
      "source": [
        "from keras.callbacks import EarlyStopping, ModelCheckpoint\n",
        "\n",
        "early_stopping = EarlyStopping(monitor='val_loss', patience=5)  # Stop training if no improvement after 3 epochs\n",
        "checkpoint = ModelCheckpoint('DenseNetImagenet.model.keras', monitor='val_loss', save_best_only=True)  # Save the best model\n"
      ],
      "metadata": {
        "execution": {
          "iopub.status.busy": "2024-05-23T22:45:20.043653Z",
          "iopub.execute_input": "2024-05-23T22:45:20.044116Z",
          "iopub.status.idle": "2024-05-23T22:45:20.049618Z",
          "shell.execute_reply.started": "2024-05-23T22:45:20.044076Z",
          "shell.execute_reply": "2024-05-23T22:45:20.048461Z"
        },
        "trusted": true,
        "id": "JvlzvwY7ezbw"
      },
      "execution_count": null,
      "outputs": []
    },
    {
      "cell_type": "code",
      "source": [
        "history = binary_classifier.fit(\n",
        "    train_flow,\n",
        "    epochs = 50,\n",
        "    validation_data =valid_flow,\n",
        "    callbacks=[checkpoint]\n",
        ")"
      ],
      "metadata": {
        "execution": {
          "iopub.status.busy": "2024-05-23T22:45:20.050702Z",
          "iopub.execute_input": "2024-05-23T22:45:20.051412Z",
          "iopub.status.idle": "2024-05-24T00:11:59.804483Z",
          "shell.execute_reply.started": "2024-05-23T22:45:20.051357Z",
          "shell.execute_reply": "2024-05-24T00:11:59.803384Z"
        },
        "trusted": true,
        "id": "EQ7aqxsLezbx",
        "outputId": "7af53759-5438-4f8b-a580-2b75e4417b03"
      },
      "execution_count": null,
      "outputs": [
        {
          "name": "stdout",
          "text": "Epoch 1/50\n",
          "output_type": "stream"
        },
        {
          "name": "stderr",
          "text": "/opt/conda/lib/python3.10/site-packages/keras/src/trainers/data_adapters/py_dataset_adapter.py:120: UserWarning: Your `PyDataset` class should call `super().__init__(**kwargs)` in its constructor. `**kwargs` can include `workers`, `use_multiprocessing`, `max_queue_size`. Do not pass these arguments to `fit()`, as they will be ignored.\n  self._warn_if_super_not_called()\n",
          "output_type": "stream"
        },
        {
          "name": "stdout",
          "text": "\u001b[1m  3/731\u001b[0m \u001b[37m━━━━━━━━━━━━━━━━━━━━\u001b[0m \u001b[1m51s\u001b[0m 71ms/step - accuracy: 0.5174 - loss: 0.6925  ",
          "output_type": "stream"
        },
        {
          "name": "stderr",
          "text": "WARNING: All log messages before absl::InitializeLog() is called are written to STDERR\nI0000 00:00:1716504325.603506      85 device_compiler.h:186] Compiled cluster using XLA!  This line is logged at most once for the lifetime of the process.\n",
          "output_type": "stream"
        },
        {
          "name": "stdout",
          "text": "\u001b[1m731/731\u001b[0m \u001b[32m━━━━━━━━━━━━━━━━━━━━\u001b[0m\u001b[37m\u001b[0m \u001b[1m112s\u001b[0m 147ms/step - accuracy: 0.5259 - loss: 0.6914 - val_accuracy: 0.5339 - val_loss: 0.6868\nEpoch 2/50\n\u001b[1m731/731\u001b[0m \u001b[32m━━━━━━━━━━━━━━━━━━━━\u001b[0m\u001b[37m\u001b[0m \u001b[1m106s\u001b[0m 143ms/step - accuracy: 0.5602 - loss: 0.6829 - val_accuracy: 0.5573 - val_loss: 0.6794\nEpoch 3/50\n\u001b[1m731/731\u001b[0m \u001b[32m━━━━━━━━━━━━━━━━━━━━\u001b[0m\u001b[37m\u001b[0m \u001b[1m105s\u001b[0m 142ms/step - accuracy: 0.5704 - loss: 0.6785 - val_accuracy: 0.5850 - val_loss: 0.6748\nEpoch 4/50\n\u001b[1m731/731\u001b[0m \u001b[32m━━━━━━━━━━━━━━━━━━━━\u001b[0m\u001b[37m\u001b[0m \u001b[1m105s\u001b[0m 142ms/step - accuracy: 0.5840 - loss: 0.6743 - val_accuracy: 0.6076 - val_loss: 0.6627\nEpoch 5/50\n\u001b[1m731/731\u001b[0m \u001b[32m━━━━━━━━━━━━━━━━━━━━\u001b[0m\u001b[37m\u001b[0m \u001b[1m104s\u001b[0m 141ms/step - accuracy: 0.5856 - loss: 0.6722 - val_accuracy: 0.6031 - val_loss: 0.6657\nEpoch 6/50\n\u001b[1m731/731\u001b[0m \u001b[32m━━━━━━━━━━━━━━━━━━━━\u001b[0m\u001b[37m\u001b[0m \u001b[1m105s\u001b[0m 142ms/step - accuracy: 0.5853 - loss: 0.6732 - val_accuracy: 0.5914 - val_loss: 0.6656\nEpoch 7/50\n\u001b[1m731/731\u001b[0m \u001b[32m━━━━━━━━━━━━━━━━━━━━\u001b[0m\u001b[37m\u001b[0m \u001b[1m104s\u001b[0m 140ms/step - accuracy: 0.5917 - loss: 0.6694 - val_accuracy: 0.6133 - val_loss: 0.6589\nEpoch 8/50\n\u001b[1m731/731\u001b[0m \u001b[32m━━━━━━━━━━━━━━━━━━━━\u001b[0m\u001b[37m\u001b[0m \u001b[1m103s\u001b[0m 139ms/step - accuracy: 0.5914 - loss: 0.6693 - val_accuracy: 0.6087 - val_loss: 0.6576\nEpoch 9/50\n\u001b[1m731/731\u001b[0m \u001b[32m━━━━━━━━━━━━━━━━━━━━\u001b[0m\u001b[37m\u001b[0m \u001b[1m104s\u001b[0m 141ms/step - accuracy: 0.5900 - loss: 0.6693 - val_accuracy: 0.6111 - val_loss: 0.6569\nEpoch 10/50\n\u001b[1m731/731\u001b[0m \u001b[32m━━━━━━━━━━━━━━━━━━━━\u001b[0m\u001b[37m\u001b[0m \u001b[1m105s\u001b[0m 142ms/step - accuracy: 0.5953 - loss: 0.6684 - val_accuracy: 0.6088 - val_loss: 0.6573\nEpoch 11/50\n\u001b[1m731/731\u001b[0m \u001b[32m━━━━━━━━━━━━━━━━━━━━\u001b[0m\u001b[37m\u001b[0m \u001b[1m104s\u001b[0m 141ms/step - accuracy: 0.5954 - loss: 0.6660 - val_accuracy: 0.6126 - val_loss: 0.6652\nEpoch 12/50\n\u001b[1m731/731\u001b[0m \u001b[32m━━━━━━━━━━━━━━━━━━━━\u001b[0m\u001b[37m\u001b[0m \u001b[1m103s\u001b[0m 140ms/step - accuracy: 0.5951 - loss: 0.6676 - val_accuracy: 0.5961 - val_loss: 0.6611\nEpoch 13/50\n\u001b[1m731/731\u001b[0m \u001b[32m━━━━━━━━━━━━━━━━━━━━\u001b[0m\u001b[37m\u001b[0m \u001b[1m102s\u001b[0m 138ms/step - accuracy: 0.5953 - loss: 0.6668 - val_accuracy: 0.6161 - val_loss: 0.6539\nEpoch 14/50\n\u001b[1m731/731\u001b[0m \u001b[32m━━━━━━━━━━━━━━━━━━━━\u001b[0m\u001b[37m\u001b[0m \u001b[1m106s\u001b[0m 143ms/step - accuracy: 0.5934 - loss: 0.6660 - val_accuracy: 0.6133 - val_loss: 0.6545\nEpoch 15/50\n\u001b[1m731/731\u001b[0m \u001b[32m━━━━━━━━━━━━━━━━━━━━\u001b[0m\u001b[37m\u001b[0m \u001b[1m105s\u001b[0m 142ms/step - accuracy: 0.5965 - loss: 0.6650 - val_accuracy: 0.6151 - val_loss: 0.6519\nEpoch 16/50\n\u001b[1m731/731\u001b[0m \u001b[32m━━━━━━━━━━━━━━━━━━━━\u001b[0m\u001b[37m\u001b[0m \u001b[1m104s\u001b[0m 142ms/step - accuracy: 0.6004 - loss: 0.6626 - val_accuracy: 0.6148 - val_loss: 0.6517\nEpoch 17/50\n\u001b[1m731/731\u001b[0m \u001b[32m━━━━━━━━━━━━━━━━━━━━\u001b[0m\u001b[37m\u001b[0m \u001b[1m101s\u001b[0m 137ms/step - accuracy: 0.5957 - loss: 0.6666 - val_accuracy: 0.6096 - val_loss: 0.6546\nEpoch 18/50\n\u001b[1m731/731\u001b[0m \u001b[32m━━━━━━━━━━━━━━━━━━━━\u001b[0m\u001b[37m\u001b[0m \u001b[1m102s\u001b[0m 138ms/step - accuracy: 0.5968 - loss: 0.6646 - val_accuracy: 0.6064 - val_loss: 0.6593\nEpoch 19/50\n\u001b[1m731/731\u001b[0m \u001b[32m━━━━━━━━━━━━━━━━━━━━\u001b[0m\u001b[37m\u001b[0m \u001b[1m102s\u001b[0m 138ms/step - accuracy: 0.5984 - loss: 0.6648 - val_accuracy: 0.6176 - val_loss: 0.6500\nEpoch 20/50\n\u001b[1m731/731\u001b[0m \u001b[32m━━━━━━━━━━━━━━━━━━━━\u001b[0m\u001b[37m\u001b[0m \u001b[1m102s\u001b[0m 138ms/step - accuracy: 0.5961 - loss: 0.6626 - val_accuracy: 0.6177 - val_loss: 0.6513\nEpoch 21/50\n\u001b[1m731/731\u001b[0m \u001b[32m━━━━━━━━━━━━━━━━━━━━\u001b[0m\u001b[37m\u001b[0m \u001b[1m102s\u001b[0m 138ms/step - accuracy: 0.5991 - loss: 0.6633 - val_accuracy: 0.6150 - val_loss: 0.6501\nEpoch 22/50\n\u001b[1m731/731\u001b[0m \u001b[32m━━━━━━━━━━━━━━━━━━━━\u001b[0m\u001b[37m\u001b[0m \u001b[1m101s\u001b[0m 137ms/step - accuracy: 0.6011 - loss: 0.6618 - val_accuracy: 0.6081 - val_loss: 0.6580\nEpoch 23/50\n\u001b[1m731/731\u001b[0m \u001b[32m━━━━━━━━━━━━━━━━━━━━\u001b[0m\u001b[37m\u001b[0m \u001b[1m102s\u001b[0m 138ms/step - accuracy: 0.6033 - loss: 0.6616 - val_accuracy: 0.6009 - val_loss: 0.6568\nEpoch 24/50\n\u001b[1m731/731\u001b[0m \u001b[32m━━━━━━━━━━━━━━━━━━━━\u001b[0m\u001b[37m\u001b[0m \u001b[1m104s\u001b[0m 140ms/step - accuracy: 0.5996 - loss: 0.6633 - val_accuracy: 0.6228 - val_loss: 0.6491\nEpoch 25/50\n\u001b[1m731/731\u001b[0m \u001b[32m━━━━━━━━━━━━━━━━━━━━\u001b[0m\u001b[37m\u001b[0m \u001b[1m104s\u001b[0m 140ms/step - accuracy: 0.5962 - loss: 0.6643 - val_accuracy: 0.6096 - val_loss: 0.6513\nEpoch 26/50\n\u001b[1m731/731\u001b[0m \u001b[32m━━━━━━━━━━━━━━━━━━━━\u001b[0m\u001b[37m\u001b[0m \u001b[1m103s\u001b[0m 140ms/step - accuracy: 0.6043 - loss: 0.6623 - val_accuracy: 0.6184 - val_loss: 0.6480\nEpoch 27/50\n\u001b[1m731/731\u001b[0m \u001b[32m━━━━━━━━━━━━━━━━━━━━\u001b[0m\u001b[37m\u001b[0m \u001b[1m105s\u001b[0m 142ms/step - accuracy: 0.6045 - loss: 0.6592 - val_accuracy: 0.6184 - val_loss: 0.6498\nEpoch 28/50\n\u001b[1m731/731\u001b[0m \u001b[32m━━━━━━━━━━━━━━━━━━━━\u001b[0m\u001b[37m\u001b[0m \u001b[1m105s\u001b[0m 142ms/step - accuracy: 0.6006 - loss: 0.6620 - val_accuracy: 0.6265 - val_loss: 0.6444\nEpoch 29/50\n\u001b[1m731/731\u001b[0m \u001b[32m━━━━━━━━━━━━━━━━━━━━\u001b[0m\u001b[37m\u001b[0m \u001b[1m101s\u001b[0m 137ms/step - accuracy: 0.6018 - loss: 0.6612 - val_accuracy: 0.6234 - val_loss: 0.6447\nEpoch 30/50\n\u001b[1m731/731\u001b[0m \u001b[32m━━━━━━━━━━━━━━━━━━━━\u001b[0m\u001b[37m\u001b[0m \u001b[1m104s\u001b[0m 141ms/step - accuracy: 0.6018 - loss: 0.6608 - val_accuracy: 0.6179 - val_loss: 0.6476\nEpoch 31/50\n\u001b[1m731/731\u001b[0m \u001b[32m━━━━━━━━━━━━━━━━━━━━\u001b[0m\u001b[37m\u001b[0m \u001b[1m104s\u001b[0m 141ms/step - accuracy: 0.6006 - loss: 0.6614 - val_accuracy: 0.6191 - val_loss: 0.6488\nEpoch 32/50\n\u001b[1m731/731\u001b[0m \u001b[32m━━━━━━━━━━━━━━━━━━━━\u001b[0m\u001b[37m\u001b[0m \u001b[1m105s\u001b[0m 142ms/step - accuracy: 0.6002 - loss: 0.6620 - val_accuracy: 0.6190 - val_loss: 0.6506\nEpoch 33/50\n\u001b[1m731/731\u001b[0m \u001b[32m━━━━━━━━━━━━━━━━━━━━\u001b[0m\u001b[37m\u001b[0m \u001b[1m106s\u001b[0m 143ms/step - accuracy: 0.6056 - loss: 0.6589 - val_accuracy: 0.6279 - val_loss: 0.6437\nEpoch 34/50\n\u001b[1m731/731\u001b[0m \u001b[32m━━━━━━━━━━━━━━━━━━━━\u001b[0m\u001b[37m\u001b[0m \u001b[1m104s\u001b[0m 142ms/step - accuracy: 0.6066 - loss: 0.6599 - val_accuracy: 0.6137 - val_loss: 0.6467\nEpoch 35/50\n\u001b[1m731/731\u001b[0m \u001b[32m━━━━━━━━━━━━━━━━━━━━\u001b[0m\u001b[37m\u001b[0m \u001b[1m104s\u001b[0m 141ms/step - accuracy: 0.6050 - loss: 0.6585 - val_accuracy: 0.6239 - val_loss: 0.6439\nEpoch 36/50\n\u001b[1m731/731\u001b[0m \u001b[32m━━━━━━━━━━━━━━━━━━━━\u001b[0m\u001b[37m\u001b[0m \u001b[1m105s\u001b[0m 142ms/step - accuracy: 0.6016 - loss: 0.6607 - val_accuracy: 0.6183 - val_loss: 0.6506\nEpoch 37/50\n\u001b[1m731/731\u001b[0m \u001b[32m━━━━━━━━━━━━━━━━━━━━\u001b[0m\u001b[37m\u001b[0m \u001b[1m104s\u001b[0m 140ms/step - accuracy: 0.6075 - loss: 0.6581 - val_accuracy: 0.6123 - val_loss: 0.6481\nEpoch 38/50\n\u001b[1m731/731\u001b[0m \u001b[32m━━━━━━━━━━━━━━━━━━━━\u001b[0m\u001b[37m\u001b[0m \u001b[1m104s\u001b[0m 141ms/step - accuracy: 0.6093 - loss: 0.6572 - val_accuracy: 0.6273 - val_loss: 0.6427\nEpoch 39/50\n\u001b[1m731/731\u001b[0m \u001b[32m━━━━━━━━━━━━━━━━━━━━\u001b[0m\u001b[37m\u001b[0m \u001b[1m104s\u001b[0m 142ms/step - accuracy: 0.6090 - loss: 0.6591 - val_accuracy: 0.5990 - val_loss: 0.6535\nEpoch 40/50\n\u001b[1m731/731\u001b[0m \u001b[32m━━━━━━━━━━━━━━━━━━━━\u001b[0m\u001b[37m\u001b[0m \u001b[1m104s\u001b[0m 141ms/step - accuracy: 0.6049 - loss: 0.6605 - val_accuracy: 0.6303 - val_loss: 0.6416\nEpoch 41/50\n\u001b[1m731/731\u001b[0m \u001b[32m━━━━━━━━━━━━━━━━━━━━\u001b[0m\u001b[37m\u001b[0m \u001b[1m104s\u001b[0m 141ms/step - accuracy: 0.6095 - loss: 0.6581 - val_accuracy: 0.6211 - val_loss: 0.6464\nEpoch 42/50\n\u001b[1m731/731\u001b[0m \u001b[32m━━━━━━━━━━━━━━━━━━━━\u001b[0m\u001b[37m\u001b[0m \u001b[1m104s\u001b[0m 141ms/step - accuracy: 0.6057 - loss: 0.6589 - val_accuracy: 0.6216 - val_loss: 0.6449\nEpoch 43/50\n\u001b[1m731/731\u001b[0m \u001b[32m━━━━━━━━━━━━━━━━━━━━\u001b[0m\u001b[37m\u001b[0m \u001b[1m104s\u001b[0m 141ms/step - accuracy: 0.6098 - loss: 0.6559 - val_accuracy: 0.6283 - val_loss: 0.6432\nEpoch 44/50\n\u001b[1m731/731\u001b[0m \u001b[32m━━━━━━━━━━━━━━━━━━━━\u001b[0m\u001b[37m\u001b[0m \u001b[1m106s\u001b[0m 143ms/step - accuracy: 0.6081 - loss: 0.6578 - val_accuracy: 0.6226 - val_loss: 0.6426\nEpoch 45/50\n\u001b[1m731/731\u001b[0m \u001b[32m━━━━━━━━━━━━━━━━━━━━\u001b[0m\u001b[37m\u001b[0m \u001b[1m105s\u001b[0m 142ms/step - accuracy: 0.6099 - loss: 0.6562 - val_accuracy: 0.6255 - val_loss: 0.6447\nEpoch 46/50\n\u001b[1m731/731\u001b[0m \u001b[32m━━━━━━━━━━━━━━━━━━━━\u001b[0m\u001b[37m\u001b[0m \u001b[1m105s\u001b[0m 142ms/step - accuracy: 0.6085 - loss: 0.6560 - val_accuracy: 0.6283 - val_loss: 0.6394\nEpoch 47/50\n\u001b[1m731/731\u001b[0m \u001b[32m━━━━━━━━━━━━━━━━━━━━\u001b[0m\u001b[37m\u001b[0m \u001b[1m105s\u001b[0m 143ms/step - accuracy: 0.6063 - loss: 0.6589 - val_accuracy: 0.6240 - val_loss: 0.6462\nEpoch 48/50\n\u001b[1m731/731\u001b[0m \u001b[32m━━━━━━━━━━━━━━━━━━━━\u001b[0m\u001b[37m\u001b[0m \u001b[1m104s\u001b[0m 141ms/step - accuracy: 0.6088 - loss: 0.6568 - val_accuracy: 0.6262 - val_loss: 0.6426\nEpoch 49/50\n\u001b[1m731/731\u001b[0m \u001b[32m━━━━━━━━━━━━━━━━━━━━\u001b[0m\u001b[37m\u001b[0m \u001b[1m103s\u001b[0m 140ms/step - accuracy: 0.6118 - loss: 0.6564 - val_accuracy: 0.6297 - val_loss: 0.6436\nEpoch 50/50\n\u001b[1m731/731\u001b[0m \u001b[32m━━━━━━━━━━━━━━━━━━━━\u001b[0m\u001b[37m\u001b[0m \u001b[1m103s\u001b[0m 140ms/step - accuracy: 0.6084 - loss: 0.6570 - val_accuracy: 0.6218 - val_loss: 0.6433\n",
          "output_type": "stream"
        }
      ]
    },
    {
      "cell_type": "code",
      "source": [
        "import seaborn as sns\n",
        "from sklearn.metrics import confusion_matrix, roc_auc_score, f1_score, mean_absolute_error, mean_squared_error, accuracy_score\n",
        "\n",
        "# Accuracy and loss history\n",
        "plt.figure(figsize=(12, 6))\n",
        "\n",
        "# Plot training & validation accuracy values\n",
        "plt.subplot(1, 2, 1)\n",
        "plt.plot(history.history['accuracy'])\n",
        "plt.plot(history.history['val_accuracy'])\n",
        "plt.title('Model accuracy')\n",
        "plt.ylabel('Accuracy')\n",
        "plt.xlabel('Epoch')\n",
        "plt.legend(['Train', 'Validation'], loc='upper left')\n",
        "\n",
        "# Plot training & validation loss values\n",
        "plt.subplot(1, 2, 2)\n",
        "plt.plot(history.history['loss'])\n",
        "plt.plot(history.history['val_loss'])\n",
        "plt.title('Model loss')\n",
        "plt.ylabel('Loss')\n",
        "plt.xlabel('Epoch')\n",
        "plt.legend(['Train', 'Validation'], loc='upper left')\n",
        "plt.show()"
      ],
      "metadata": {
        "execution": {
          "iopub.status.busy": "2024-05-24T00:26:25.162900Z",
          "iopub.execute_input": "2024-05-24T00:26:25.165244Z",
          "iopub.status.idle": "2024-05-24T00:26:25.989532Z",
          "shell.execute_reply.started": "2024-05-24T00:26:25.165210Z",
          "shell.execute_reply": "2024-05-24T00:26:25.988468Z"
        },
        "trusted": true,
        "id": "8HlwllhBezbx",
        "outputId": "3f316eca-eb6d-4c87-f95a-bbbc68a2ee9f"
      },
      "execution_count": null,
      "outputs": [
        {
          "output_type": "display_data",
          "data": {
            "text/plain": "<Figure size 1200x600 with 2 Axes>",
            "image/png": "[encoded data removed]"
          },
          "metadata": {}
        }
      ]
    },
    {
      "cell_type": "code",
      "source": [
        "loss, accuracy = binary_classifier.evaluate(test_flow)"
      ],
      "metadata": {
        "execution": {
          "iopub.status.busy": "2024-05-24T00:27:18.383971Z",
          "iopub.execute_input": "2024-05-24T00:27:18.384349Z",
          "iopub.status.idle": "2024-05-24T00:27:40.446119Z",
          "shell.execute_reply.started": "2024-05-24T00:27:18.384320Z",
          "shell.execute_reply": "2024-05-24T00:27:40.445222Z"
        },
        "trusted": true,
        "id": "GOCBD7eJezbx",
        "outputId": "db7996bc-05c3-4bdd-b858-cfea338c5f55"
      },
      "execution_count": null,
      "outputs": [
        {
          "name": "stdout",
          "text": "\u001b[1m  1/157\u001b[0m \u001b[37m━━━━━━━━━━━━━━━━━━━━\u001b[0m \u001b[1m24s\u001b[0m 160ms/step - accuracy: 0.6875 - loss: 0.5641",
          "output_type": "stream"
        },
        {
          "name": "stderr",
          "text": "/opt/conda/lib/python3.10/site-packages/keras/src/trainers/data_adapters/py_dataset_adapter.py:120: UserWarning: Your `PyDataset` class should call `super().__init__(**kwargs)` in its constructor. `**kwargs` can include `workers`, `use_multiprocessing`, `max_queue_size`. Do not pass these arguments to `fit()`, as they will be ignored.\n  self._warn_if_super_not_called()\n",
          "output_type": "stream"
        },
        {
          "name": "stdout",
          "text": "\u001b[1m157/157\u001b[0m \u001b[32m━━━━━━━━━━━━━━━━━━━━\u001b[0m\u001b[37m\u001b[0m \u001b[1m22s\u001b[0m 138ms/step - accuracy: 0.6292 - loss: 0.6264\n",
          "output_type": "stream"
        },
        {
          "name": "stderr",
          "text": "W0000 00:00:1716510460.433756      85 graph_launch.cc:671] Fallback to op-by-op mode because memset node breaks graph update\n",
          "output_type": "stream"
        }
      ]
    }
  ]
}